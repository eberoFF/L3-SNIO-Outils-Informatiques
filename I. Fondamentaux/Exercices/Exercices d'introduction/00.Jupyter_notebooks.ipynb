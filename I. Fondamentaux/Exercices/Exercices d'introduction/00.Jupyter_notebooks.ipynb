{
 "cells": [
  {
   "cell_type": "markdown",
   "metadata": {},
   "source": [
    "# L3 - SNEI - Outils Informatiques\n",
    "Provided by Marc Sevaux - inspired from juliabox notebooks"
   ]
  },
  {
   "cell_type": "markdown",
   "metadata": {},
   "source": [
    "## Getting started with Jupyter notebooks and julia\n",
    "\n",
    "### Understanding cells\n",
    "Cells can be of the form \"Markdown\", \"Code\" or \"Raw\". \"Markdown\" will be used for texts, definitions, math formulas or instructions. \"Code\" will be used for julia code that can be executed. Change the type of a cell using the dropdown list in the toolbar\n",
    "\n",
    "### Adding a new cell\n",
    "Add a cell below the current position with `ESC B` (`ESC A` for above)\n",
    "\n",
    "### Deleting a cell\n",
    "Use `dd`. Be careful it deletes the whole cell and cannot be reverted\n",
    "\n",
    "### Splitting a cell\n",
    "Use `CTRL SHIFT -` to split the cell at the current position\n",
    "\n",
    "### Merging cells\n",
    "If you are editing the cell, press `ESC` to quit the edit mode. Then press `SHIFT M` to merge the current cell and the cell below"
   ]
  },
  {
   "cell_type": "markdown",
   "metadata": {},
   "source": [
    "### Running a cell\n",
    "To execute code within a cell, select that cell and either (1) hit `Shift` and `Enter` or (2) hit the run button (the right pointing arrow) in the toolbar above"
   ]
  },
  {
   "cell_type": "code",
   "execution_count": null,
   "metadata": {},
   "outputs": [],
   "source": [
    "1 + 1\n",
    "2 + 2"
   ]
  },
  {
   "cell_type": "markdown",
   "metadata": {},
   "source": [
    "If you're new to jupyter notebooks, note that only the last line of a cell prints by default when you execute that cell and that you can suppress this output with a semicolon"
   ]
  },
  {
   "cell_type": "code",
   "execution_count": null,
   "metadata": {},
   "outputs": [],
   "source": [
    "1 + 1\n",
    "2 + 2;"
   ]
  },
  {
   "cell_type": "markdown",
   "metadata": {},
   "source": [
    "### How to get docs for Julia functions\n",
    "\n",
    "To get docs for a function you're not familiar with, precede it with a question mark. (This works in the terminal too!)"
   ]
  },
  {
   "cell_type": "code",
   "execution_count": null,
   "metadata": {},
   "outputs": [],
   "source": [
    "?println"
   ]
  },
  {
   "cell_type": "markdown",
   "metadata": {},
   "source": [
    "### How to use shell commands\n",
    "\n",
    "Type `;` and then you can use shell commands. For example,"
   ]
  },
  {
   "cell_type": "code",
   "execution_count": null,
   "metadata": {},
   "outputs": [],
   "source": [
    ";ls"
   ]
  },
  {
   "cell_type": "code",
   "execution_count": null,
   "metadata": {},
   "outputs": [],
   "source": [
    ";pwd"
   ]
  },
  {
   "cell_type": "code",
   "execution_count": null,
   "metadata": {},
   "outputs": [],
   "source": []
  }
 ],
 "metadata": {
  "kernelspec": {
   "display_name": "Julia 1.5.3",
   "language": "julia",
   "name": "julia-1.5"
  },
  "language_info": {
   "file_extension": ".jl",
   "mimetype": "application/julia",
   "name": "julia",
   "version": "1.5.3"
  }
 },
 "nbformat": 4,
 "nbformat_minor": 4
}
