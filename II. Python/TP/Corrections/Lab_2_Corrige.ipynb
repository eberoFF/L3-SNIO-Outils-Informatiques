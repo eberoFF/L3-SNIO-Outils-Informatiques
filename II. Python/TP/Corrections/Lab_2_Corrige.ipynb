{
 "cells": [
  {
   "cell_type": "markdown",
   "metadata": {},
   "source": [
    "\n",
    "# **Python First lab**\n",
    "\n",
    "The goal of this course is to practice Python language with a more complex subject.\n",
    "During this lab, you will have to use your Python knowledge develop a small application.\n",
    "\n",
    "During this lab, you should propose a program that will count the number of days from today upto a given deadline defined by the user:\n",
    "\n",
    "_The remain remaining for your goal: learn Python is 300 days._\n",
    "\n",
    "To realise this function, you will have to use some module provided by Python (i.e. _datetime_)\n",
    "(see [more information](https://docs.python.org/fr/3.8/library/datetime.html))\n"
   ]
  },
  {
   "cell_type": "code",
   "execution_count": 2,
   "metadata": {},
   "outputs": [
    {
     "name": "stdout",
     "output_type": "stream",
     "text": [
      "day1 = 12/01/2024\n"
     ]
    },
    {
     "data": {
      "text/plain": [
       "13"
      ]
     },
     "execution_count": 2,
     "metadata": {},
     "output_type": "execute_result"
    }
   ],
   "source": [
    "## Enter your code below\n",
    "\n",
    "from datetime import date\n",
    "\n",
    "today = date.today()\n",
    "day1 = today.strftime(\"%d/%m/%Y\")\n",
    "print(\"day1 =\", day1)\n",
    "deadlineday = date(2024, 1, 25)\n",
    "diff = deadlineday - today\n",
    "diff.days"
   ]
  },
  {
   "cell_type": "markdown",
   "metadata": {},
   "source": [
    "# **Python lab - Use of an external package**\n",
    "\n",
    "The goal of this second lab is to pratice how to install and use an external package.\n",
    "During this lab, you have to program an application to extract information from a spreadsheet and store them into a Python structure (in order to manipulate them later).\n",
    "\n",
    "The external package you have to install is **openpyxl**.\n",
    "\n",
    "This package allows you to _create_, _read_ and _write_ spreadsheets. "
   ]
  },
  {
   "cell_type": "code",
   "execution_count": null,
   "metadata": {},
   "outputs": [],
   "source": [
    "## Enter your code below\n",
    "## or try it in a terminal\n",
    "!pip install numpy\n",
    "!pip install openpyxl"
   ]
  },
  {
   "cell_type": "markdown",
   "metadata": {},
   "source": [
    "Once the targeted sheet is available, you will be able to manipulate the data.\n",
    "* **First**, for each supplier get the total number of its products.\n"
   ]
  },
  {
   "cell_type": "code",
   "execution_count": 22,
   "metadata": {},
   "outputs": [
    {
     "name": "stdout",
     "output_type": "stream",
     "text": [
      "1\n"
     ]
    }
   ],
   "source": [
    "## Enter your code below\n",
    "## or try it in a terminal\n",
    "import openpyxl\n",
    "\n",
    "book = openpyxl.load_workbook('ListTest.xlsx')\n",
    "\n",
    "sheet = book.active\n",
    "a1 = sheet['A1']\n",
    "a2 = sheet['A2']\n",
    "\n",
    "print(a1.value)\n",
    "print(a2.value)"
   ]
  },
  {
   "cell_type": "code",
   "execution_count": 4,
   "metadata": {},
   "outputs": [
    {
     "name": "stdout",
     "output_type": "stream",
     "text": [
      "Total number of row in the present sheet is 150\n",
      "Total number of column in the present sheet is 6\n",
      "['AA', 'BB', 'CC', 'DD', 'AA', 'AA', 'AA', 'BB', 'CC', 'DD', 'AA', 'BB', 'CC', 'CC', 'CC', 'CC', 'CC', 'DD', 'DD', 'AA', 'AA', 'AA', 'AA', 'AA', 'AA', 'BB', 'BB', 'BB', 'CC', 'DD', 'DD', 'DD', 'DD', 'DD', 'DD', 'DD', 'CC', 'AA', 'DD', 'DD', 'AA', 'AA', 'AA', 'AA', 'AA', 'CC', 'DD', 'DD', 'DD', 'CC', 'CC', 'CC', 'CC', 'CC', 'AA', 'AA', 'AA', 'AA', 'AA', 'AA', 'AA', 'AA', 'AA', 'AA', 'AA', 'BB', 'BB', 'BB', 'BB', 'BB', 'BB', 'BB', 'BB', 'DD', 'DD', 'DD', 'CC', 'CC', 'CC', 'CC', 'XX', 'BB', 'CC', 'DD', 'ZZ', 'AA', 'ZZ', 'AA', 'BB', 'DD', 'DD', 'DD', 'DD', 'DD', 'DD', 'DD', 'CC', 'AA', 'DD', 'DD', 'AA', 'AA', 'AA', 'AA', 'AA', 'CC', 'DD', 'DD', 'DD', 'CC', 'CC', 'CC', 'CC', 'CC', 'AA', 'AA', 'AA', 'AA', 'AA', 'AA', 'AA', 'AA', 'AA', 'AA', 'AA', 'BB', 'BB', 'BB', 'BB', 'BB', 'BB', 'BB', 'BB', 'DD', 'DD', 'DD', 'CC', 'CC', 'CC', 'AA', 'BB', 'DD', 'DD', 'BB', 'BB', 'AA', 'CC', 'DD', 'BB']\n"
     ]
    }
   ],
   "source": [
    "from openpyxl import load_workbook\n",
    "file = load_workbook('ListTest.xlsx')\n",
    "Feuil = file.active\n",
    "print(f\"Total number of row in the present sheet is {sheet.max_row}\")\n",
    "print(f\"Total number of column in the present sheet is {sheet.max_column}\")\n",
    "data=[Feuil.cell(row=i,column=4).value\n",
    "for i in range(2,151)]\n",
    "print(data)"
   ]
  },
  {
   "cell_type": "code",
   "execution_count": 34,
   "metadata": {},
   "outputs": [
    {
     "name": "stdout",
     "output_type": "stream",
     "text": [
      "Count of AA: 49\n",
      "Count of BB: 28\n",
      "Count of CC: 31\n",
      "Count of DD: 38\n",
      "Count of XX: 1\n",
      "Count of ZZ: 2\n"
     ]
    }
   ],
   "source": [
    "from openpyxl import load_workbook\n",
    "file = load_workbook('ListTest.xlsx')\n",
    "Feuil = file.active\n",
    "list2= [Feuil.cell(row=i,column=4).value for i in range(2,151)]\n",
    "print('Count of AA:', list2.count('AA'))\n",
    "print('Count of BB:', list2.count('BB'))\n",
    "print('Count of CC:', list2.count('CC'))\n",
    "print('Count of DD:', list2.count('DD'))\n",
    "print('Count of XX:', list2.count('XX'))\n",
    "print('Count of ZZ:', list2.count('ZZ'))"
   ]
  },
  {
   "cell_type": "markdown",
   "metadata": {},
   "source": [
    "Instead of using the square brackets **[...]** to get the value from a given dictionnary, it is also possible to use a dedicated **get()** method:\n",
    "\n",
    "\n",
    "```python\n",
    "<dictionary_name>.get(<key>)\n",
    "\n",
    "```\n",
    "\n",
    " \n",
    "* **Second**, extract from this spreadsheet the products and the elements in the stock."
   ]
  },
  {
   "cell_type": "code",
   "execution_count": 23,
   "metadata": {},
   "outputs": [
    {
     "name": "stdout",
     "output_type": "stream",
     "text": [
      "Products Stock \n",
      "1 20 \n",
      "2 43 \n",
      "3 324 \n",
      "4 123 \n",
      "5 234 \n",
      "6 235 \n",
      "7 54 \n",
      "8 32 \n",
      "9 4 \n"
     ]
    }
   ],
   "source": [
    "## Enter your code below\n",
    "## or try it in a terminal\n",
    "data=[Feuil.cell(row=i,column=j).value for i in range(2,151) for j in range(1,3)]\n",
    "#print(data)\n",
    "for row in Feuil.iter_rows(min_row=1, min_col=1, max_row=10, max_col=2):\n",
    "    for cell in row:\n",
    "        print(cell.value, end=\" \")\n",
    "    print()"
   ]
  },
  {
   "cell_type": "code",
   "execution_count": 24,
   "metadata": {},
   "outputs": [
    {
     "name": "stdout",
     "output_type": "stream",
     "text": [
      "Data exists at cell # <Cell 'List_Prod'.B2>\n",
      "Data exists at cell # <Cell 'List_Prod'.B10>\n",
      "Data exists at cell # <Cell 'List_Prod'.B11>\n",
      "Data exists at cell # <Cell 'List_Prod'.B19>\n",
      "Data exists at cell # <Cell 'List_Prod'.B20>\n",
      "Data exists at cell # <Cell 'List_Prod'.B29>\n",
      "Data exists at cell # <Cell 'List_Prod'.B38>\n",
      "Data exists at cell # <Cell 'List_Prod'.B39>\n",
      "Data exists at cell # <Cell 'List_Prod'.B48>\n",
      "Data exists at cell # <Cell 'List_Prod'.B57>\n",
      "Data exists at cell # <Cell 'List_Prod'.B58>\n",
      "Data exists at cell # <Cell 'List_Prod'.B67>\n",
      "Data exists at cell # <Cell 'List_Prod'.B76>\n",
      "Data exists at cell # <Cell 'List_Prod'.B77>\n",
      "Data exists at cell # <Cell 'List_Prod'.B86>\n",
      "Data exists at cell # <Cell 'List_Prod'.B95>\n",
      "Data exists at cell # <Cell 'List_Prod'.B96>\n",
      "Data exists at cell # <Cell 'List_Prod'.B105>\n",
      "Data exists at cell # <Cell 'List_Prod'.B114>\n",
      "Data exists at cell # <Cell 'List_Prod'.B115>\n",
      "Data exists at cell # <Cell 'List_Prod'.B124>\n",
      "Data exists at cell # <Cell 'List_Prod'.B133>\n",
      "Data exists at cell # <Cell 'List_Prod'.B134>\n",
      "Data exists at cell # <Cell 'List_Prod'.B143>\n"
     ]
    },
    {
     "ename": "TypeError",
     "evalue": "'<=' not supported between instances of 'NoneType' and 'int'",
     "output_type": "error",
     "traceback": [
      "\u001b[1;31m---------------------------------------------------------------------------\u001b[0m",
      "\u001b[1;31mTypeError\u001b[0m                                 Traceback (most recent call last)",
      "Cell \u001b[1;32mIn[24], line 5\u001b[0m\n\u001b[0;32m      1\u001b[0m \u001b[38;5;28;01mfor\u001b[39;00m row \u001b[38;5;129;01min\u001b[39;00m Feuil\u001b[38;5;241m.\u001b[39miter_rows(min_row\u001b[38;5;241m=\u001b[39m\u001b[38;5;241m2\u001b[39m, min_col\u001b[38;5;241m=\u001b[39m\u001b[38;5;241m2\u001b[39m, max_row\u001b[38;5;241m=\u001b[39m\u001b[38;5;241m151\u001b[39m, max_col\u001b[38;5;241m=\u001b[39m\u001b[38;5;241m2\u001b[39m):\n\u001b[0;32m      3\u001b[0m     \u001b[38;5;28;01mfor\u001b[39;00m cell \u001b[38;5;129;01min\u001b[39;00m row:\n\u001b[1;32m----> 5\u001b[0m         \u001b[38;5;28;01mif\u001b[39;00m cell\u001b[38;5;241m.\u001b[39mvalue \u001b[38;5;241m<\u001b[39m\u001b[38;5;241m=\u001b[39m\u001b[38;5;241m20\u001b[39m:\n\u001b[0;32m      7\u001b[0m            \u001b[38;5;28mprint\u001b[39m(\u001b[38;5;124m\"\u001b[39m\u001b[38;5;124mData exists at cell #\u001b[39m\u001b[38;5;124m\"\u001b[39m, Feuil\u001b[38;5;241m.\u001b[39mcell(row\u001b[38;5;241m=\u001b[39mcell\u001b[38;5;241m.\u001b[39mrow, column\u001b[38;5;241m=\u001b[39mcell\u001b[38;5;241m.\u001b[39mcolumn))\n",
      "\u001b[1;31mTypeError\u001b[0m: '<=' not supported between instances of 'NoneType' and 'int'"
     ]
    }
   ],
   "source": [
    "for row in Feuil.iter_rows(min_row=2, min_col=2, max_row=151, max_col=2):\n",
    " \n",
    "    for cell in row:\n",
    " \n",
    "        if cell.value <=20:\n",
    " \n",
    "           print(\"Data exists at cell #\", Feuil.cell(row=cell.row, column=cell.column))"
   ]
  },
  {
   "cell_type": "markdown",
   "metadata": {},
   "source": [
    "* **Third**, compute the total value of the stock and price."
   ]
  },
  {
   "cell_type": "code",
   "execution_count": 25,
   "metadata": {},
   "outputs": [
    {
     "name": "stdout",
     "output_type": "stream",
     "text": [
      "2659793\n"
     ]
    }
   ],
   "source": [
    "## Enter your code below\n",
    "## or try it in a terminal\n",
    "from openpyxl import load_workbook\n",
    "file = load_workbook('ListTest.xlsx')\n",
    "Feuil = file.active\n",
    "l= [Feuil.cell(row=i,column=2).value\n",
    "for i in range(2,151)]\n",
    "#print(l)\n",
    "Sum = sum(l)\n",
    "print(Sum)"
   ]
  },
  {
   "cell_type": "markdown",
   "metadata": {},
   "source": [
    "* **Finaly**, compute the stock value for each product and integrate the result in a new colomn in the spreadsheet."
   ]
  },
  {
   "cell_type": "code",
   "execution_count": 27,
   "metadata": {},
   "outputs": [],
   "source": [
    "## Enter your code below\n",
    "## or try it in a terminal\n",
    "\n",
    "def CellValues(r, c):\n",
    "    return sheet.cell(row=r, column=c).value\n",
    "file = (r\"C:\\Users\\UBS\\OneDrive - Université Bretagne Sud\\2022-2023\\Python\\Lab2_Python\\ListTest.xlsx\")\n",
    "book = openpyxl.load_workbook(file)\n",
    "Feuil = book.active\n",
    "\n",
    "for m in range(2, 20):\n",
    "    Feuil.cell(row=m, column=6).value = CellValues(m, 2) + CellValues(m, 3)\n",
    "book.save(file)"
   ]
  },
  {
   "cell_type": "code",
   "execution_count": null,
   "metadata": {},
   "outputs": [],
   "source": []
  }
 ],
 "metadata": {
  "kernelspec": {
   "display_name": "Python 3 (ipykernel)",
   "language": "python",
   "name": "python3"
  },
  "language_info": {
   "codemirror_mode": {
    "name": "ipython",
    "version": 3
   },
   "file_extension": ".py",
   "mimetype": "text/x-python",
   "name": "python",
   "nbconvert_exporter": "python",
   "pygments_lexer": "ipython3",
   "version": "3.11.5"
  }
 },
 "nbformat": 4,
 "nbformat_minor": 4
}
