{
 "cells": [
  {
   "cell_type": "markdown",
   "metadata": {},
   "source": [
    "# **Python course overview**\n",
    "\n",
    "The goal of this course is to learn Python language with hands-on examples.\n",
    "During this first session you will work with some basic algorithmic concepts you already know, and you will code them in Python.\n",
    "\n",
    "(The interested reader could check this [site](https://docs.python.org/3/tutorial/index.html))\n"
   ]
  },
  {
   "cell_type": "markdown",
   "metadata": {},
   "source": [
    "### Basic building blocks for programming (remainder)\n",
    "* Discovering basic concepts with the slides proposed by Arnaud Tisserand (CNRS/lab-STICC) [slides](https://moodle.univ-ubs.fr/pluginfile.php/402525/mod_resource/content/1/python-2x2.pdf)\n",
    "* strings, numbers, booleans\n",
    "* lists, sets, dictionaries\n",
    "* variables and functions\n",
    "* accepting user input\n",
    "* error handling with _try_ / _catch_\n",
    "* loops: _for_ / _while_ loops\n",
    "\n",
    "### Extend your Python skills\n",
    "* By studying the Jupyter Notebook proposed by Arnaud Tisserand (CNRS/lab-STICC)\n",
    "* By programming a small time counter (LabPython 2)\n",
    " \n",
    "### Modules\n",
    "* write your own modules\n",
    "* use bult-in python modules\n",
    "\n",
    "### Packages\n",
    "* difference module & package\n",
    "* Pypy & pip\n",
    "\n",
    "### Object Oriented Programming\n",
    "* Notions of _class_ and _Object_ (remainder)\n"
   ]
  },
  {
   "cell_type": "markdown",
   "metadata": {},
   "source": [
    "# **1. Introduction to Python** \n",
    "\n",
    "Python is a programming language like C++, Java, Ada... \n",
    "but it has two main advantages compared to such languages: \n",
    "* **easy to learn**\n",
    "    * simple syntax \n",
    "    * easy to setup and to start programming with it\n",
    "\n",
    "\n",
    "  Simple *Hello world* in Java\n",
    "\n",
    "![alt text][logoJ]\n",
    "\n",
    "[logoJ]: ./Hello_Java.png \"Hello world Java\"  \n",
    "\n",
    "\n",
    "  Simple *Hello world* in C++\n",
    "\n",
    "![alt text][logoCPP]\n",
    "\n",
    "[logoCPP]: ./Hello_CPP.png \"Hello world C++\"  \n",
    "\n",
    "\n",
    "  Simple *Hello world* in C\n",
    "\n",
    "![alt text][logoC]\n",
    "\n",
    "[logoC]: ./Hello_C.png \"Hello world C\"  \n",
    "\n",
    "\n",
    "  Simple *Hello world* in Python\n",
    "\n",
    "![alt text][logoP]\n",
    "\n",
    "[logoP]: ./Hello_Python.png \"Hello world Python\"  \n",
    "\n",
    "\n",
    "* **large ecosystem**\n",
    "    * many libraries \n",
    "    * large community\n",
    "\n",
    "\n",
    "* **flexible language**\n",
    "    * you are not limited to language specifics => Python is used in many categories \n",
    "    * Data analysis, Web dev., Machine learning, Scripting, System administration, Data collection, Automation...\n",
    "    \n",
    "![alt text][logoPuse]\n",
    "\n",
    "[logoPuse]: ./PythonUse.png \"The world of Python\"    \n",
    "\n",
    "\n",
    "**_These are very important features of Python, that are not available in other languages !_**  \n"
   ]
  },
  {
   "cell_type": "markdown",
   "metadata": {},
   "source": [
    "**==========================================================================================**\n",
    "\n",
    "**==========================================================================================**\n",
    "\n",
    "## A. Writing your fisrt program\n",
    "\n",
    "As a first example, you will devellop simple programs to learn the basics of Python language. \n",
    "\n",
    "<u>**Step 1**</u> **- Let's print something**\n",
    "\n",
    "Try to print the following number: 100 \n",
    "\n",
    "Try to print the following sentence: _\"100 is a number.\"_\n"
   ]
  },
  {
   "cell_type": "code",
   "execution_count": null,
   "metadata": {},
   "outputs": [],
   "source": [
    "## Enter your code below\n",
    "print(100)\n",
    "print(\"100 is a number.\")"
   ]
  },
  {
   "cell_type": "markdown",
   "metadata": {},
   "source": [
    "**==========================================================================================**\n",
    "\n",
    "<u>**Step 2**</u> **-** **Simple calculation** \n",
    "\n",
    "In the previous example, you printed an integer (positive or negative) value and a string.\n",
    "Let's try now to print the number of minutes in 10 days : _10 days * 24 hours * 60 minutes_"
   ]
  },
  {
   "cell_type": "code",
   "execution_count": null,
   "metadata": {},
   "outputs": [],
   "source": [
    "## Enter your code below\n",
    "print(10*24*60)"
   ]
  },
  {
   "cell_type": "markdown",
   "metadata": {},
   "source": [
    "As you can see, to be a programmer, you don't need to a math genius !\n",
    "\n",
    "<u>**Step 3**</u> **-** **String concatenation** \n",
    "\n",
    "To ease the use of the program, you should some informations instead of leaving the result like this.\n",
    "\n",
    "For example: _\"10 days are xxxx minutes.\"_\n",
    "\n",
    "To realize this, we will use <u>String concatenation</u> (see [more informations](https://docs.python.org/3/library/string.html?highlight=strings)).\n",
    "\n",
    "In Python, the symbol for concatenation is **+**, like the arithmetic symbol but it is usable with <u>strings</u>."
   ]
  },
  {
   "cell_type": "code",
   "execution_count": null,
   "metadata": {},
   "outputs": [],
   "source": [
    "## Enter your code below\n",
    "print(\"10 days are \" + str(10*24*60) + \" minutes.\")"
   ]
  },
  {
   "cell_type": "markdown",
   "metadata": {},
   "source": [
    "In a more elegant way, it is possible to include value in a string throught _curly brackets_ and by indicating the data **f**ormat.\n",
    "\n",
    "```python\n",
    "print(f\"Start of string {xxx} end of string.\") \n",
    "```\n",
    " **BE CAREFULL => Use this syntax only with the latest version of Python (from 3.6)!**"
   ]
  },
  {
   "cell_type": "code",
   "execution_count": null,
   "metadata": {},
   "outputs": [],
   "source": [
    "## Enter your code below\n",
    "print(f\"10 days are {10*24*60} minutes.\")"
   ]
  },
  {
   "cell_type": "markdown",
   "metadata": {},
   "source": [
    "\n",
    "<u>**Step 4**</u> **-** **Variables** \n",
    "\n",
    "How can we improve our code, in order to change dynamically the number of days and/or the targeted units (hours, minutes, seconds...)?\n",
    "\n",
    "The answer is simple, as in any language we will use variables to store intermediate values in order to reuse them later.\n",
    "\n",
    "In Python:\n",
    "\n",
    "_<_ _name_of_variable_ _>_   **=**   _<_ _calculation_ _>_\n",
    "\n",
    "You can see that the type of the variable is not define in Python... This type is dynamically computed by Python."
   ]
  },
  {
   "cell_type": "code",
   "execution_count": null,
   "metadata": {},
   "outputs": [],
   "source": [
    "## Enter your code below\n",
    "to_units = 24 * 60\n",
    "name_of_unit = \"minutes\"\n",
    "\n",
    "print(f\"10 days are {10*to_units} minutes.\")\n",
    "print(f\"10 days are {10*to_units} {name_of_unit}.\")"
   ]
  },
  {
   "cell_type": "markdown",
   "metadata": {},
   "source": [
    "You can use any name for your variable, but you have to respect two conditions like in any language:\n",
    "* the name of the variable must be explicit ! **USE DESCRIPTIVE VARIABLE NAME !**\n",
    "* you cannot use reserved Python keywords (see table below from [Keywords source](https://www.tutorialspoint.com/What-are-Reserved-Keywords-in-Python))\n",
    "\n",
    "![alt text][logoPKW]\n",
    "\n",
    "[logoPKW]: ./PKeyW.png \"Python Keywords\"    "
   ]
  },
  {
   "cell_type": "markdown",
   "metadata": {},
   "source": [
    "**==========================================================================================**\n",
    "\n",
    "<u>**Step 5**</u> **-** **Functions** \n",
    "\n",
    "Now, you are able to provide clean code, but it is still possible to make this code more generic thanks to functions.\n",
    "\n",
    "```python\n",
    "def <name_of_function> (<parameters>):   \n",
    "       <function_code>\n",
    "```"
   ]
  },
  {
   "cell_type": "code",
   "execution_count": null,
   "metadata": {},
   "outputs": [],
   "source": [
    "## Enter your code below\n",
    "def  days_to_units():\n",
    "    print(f\"10 days are {10*to_units} {name_of_unit}.\")\n",
    "    print(\"Nice job!\")"
   ]
  },
  {
   "cell_type": "markdown",
   "metadata": {},
   "source": [
    "* A function is defined using the **def** keyword\n",
    "* The block of code will run only if it is called"
   ]
  },
  {
   "cell_type": "code",
   "execution_count": null,
   "metadata": {},
   "outputs": [],
   "source": [
    "## Enter your code below\n",
    "days_to_units()"
   ]
  },
  {
   "cell_type": "markdown",
   "metadata": {},
   "source": [
    "In order to use this function for any other number of days, we have to use parameters (or function arguments).\n"
   ]
  },
  {
   "cell_type": "code",
   "execution_count": null,
   "metadata": {},
   "outputs": [],
   "source": [
    "## Enter your code below\n",
    "def  days_to_units(num_of_days):\n",
    "    print(f\"{num_of_days} days are {num_of_days*to_units} {name_of_unit}.\")\n",
    "    print(\"Very nice job!\")\n",
    "    \n",
    "days_to_units(10)\n",
    "days_to_units(20)\n",
    "days_to_units(35)"
   ]
  },
  {
   "cell_type": "markdown",
   "metadata": {},
   "source": [
    "It is also possible add a user defined text as a message to your function.\n",
    "\n",
    "You can achieve this just by adding another parameter to the function, separated by a comma."
   ]
  },
  {
   "cell_type": "code",
   "execution_count": null,
   "metadata": {},
   "outputs": [],
   "source": [
    "## Enter your code below\n",
    "def  days_to_units(num_of_days, your_text):\n",
    "    print(f\"\\n{num_of_days} days are {num_of_days*to_units} {name_of_unit}.\\n\")\n",
    "    print(your_text)\n",
    "    \n",
    "days_to_units(25, \"Cool !\\n\")\n",
    "days_to_units(20, \"Great !\\n\")\n"
   ]
  },
  {
   "cell_type": "markdown",
   "metadata": {},
   "source": [
    "At this step, you can see that several variables have been defined, some outside the function (we say **global variables**), others inside our function (we say **local variables** to the function).\n",
    "\n",
    "This notion of scope of the variables is import to master.\n",
    "\n",
    "If you are a bit confused with this notion, adapt the following code to check the scope of variables, else continue to **step 6**."
   ]
  },
  {
   "cell_type": "code",
   "execution_count": null,
   "metadata": {},
   "outputs": [],
   "source": [
    "## Modify the code below to clarify the notion of variable scope \n",
    "def scope_check(num_of_days):\n",
    "    my_var = \"Our internal variable\"\n",
    "    print(name_of_unit)\n",
    "    print(num_of_days)\n",
    "\n",
    "scope_check(20)"
   ]
  },
  {
   "cell_type": "markdown",
   "metadata": {},
   "source": [
    "**==========================================================================================**\n",
    "\n",
    "<u>**Step 6**</u> **-** **User inputs** \n",
    "\n",
    "In a realistic program, the value should be provided by the user.\n",
    "\n",
    "Python built-In function (see [more information](https://docs.python.org/3/library/functions.html)):\n",
    "\n",
    "**input()** \n"
   ]
  },
  {
   "cell_type": "code",
   "execution_count": null,
   "metadata": {},
   "outputs": [],
   "source": [
    "## Enter your code below\n",
    "user_input = input(\"Enter a number of days, and I will convert it!\\n\")\n",
    "print(user_input)"
   ]
  },
  {
   "cell_type": "code",
   "execution_count": null,
   "metadata": {},
   "outputs": [],
   "source": [
    "## Enter your code below\n",
    "def  func_days_to_units(num_of_days):\n",
    "    return f\"{num_of_days} days are {num_of_days*to_units} {name_of_unit}.\"\n",
    "\n",
    "user_input = input(\"Enter a number of days, and I will convert it!\\n\")\n",
    "func_days_to_units(user_input)"
   ]
  },
  {
   "cell_type": "markdown",
   "metadata": {},
   "source": [
    "In Python, the _input()_ always return a string. \n",
    "\n",
    "The idea is to **cast** the string value in an integer value.\n",
    "\n",
    "Python built-In cast function:\n",
    "\n",
    " _<_ _cast_type_ _>_   **(** _<_ _cast_target_ _>_ **)** \n",
    "\n"
   ]
  },
  {
   "cell_type": "code",
   "execution_count": null,
   "metadata": {},
   "outputs": [],
   "source": [
    "## Enter your code below\n",
    "user_input = input(\"Enter a number of days, and I will convert it!\\n\")\n",
    "user_input_number = int(user_input)\n",
    "\n",
    "calculated_value = func_days_to_units(user_input_number)\n",
    "                                      \n",
    "print(calculated_value)"
   ]
  },
  {
   "cell_type": "markdown",
   "metadata": {},
   "source": [
    "**==========================================================================================**\n",
    "\n",
    "**==========================================================================================**\n",
    "\n",
    "## B. Securizing your program\n",
    "\n",
    "\n",
    "<u>**Step 1**</u> **-** **Input validation with conditionnal if/else** \n",
    "\n",
    "In order to secure your code, you must be sure that the input data are valid and that they will not corrupt your program!\n",
    "\n",
    "Keep in mind that **user is evil**.\n",
    "\n",
    "```python\n",
    "if <condition>:\n",
    "\n",
    "else:\n",
    "```\n",
    "\n",
    "=> Propose a set of verification in your code to be sure that a valid value is provided to your function (_Valid_ means an **integer** strictly **greater than 0**). "
   ]
  },
  {
   "cell_type": "code",
   "execution_count": null,
   "metadata": {},
   "outputs": [],
   "source": [
    "## Enter your code below\n",
    "to_units = 24 \n",
    "name_of_unit = \"hours\"\n",
    "\n",
    "def  func_days_to_units(num_of_days):\n",
    "    if num_of_days > 0:\n",
    "         return f\"{num_of_days} days are {num_of_days*to_units} {name_of_unit}.\"\n",
    "    elif num_of_days == 0:\n",
    "        return \"You entered the forbiden 0 value.\"\n",
    "    else:\n",
    "        return \"You entered a forbiden negative value!\" \n",
    "\n",
    "    \n",
    "user_input = input(\"Enter a number of days, and I will convert it!\\n\")\n",
    "user_input_number = int(user_input)\n",
    "\n",
    "calculated_value = func_days_to_units(user_input_number)   \n",
    "\n",
    "print(calculated_value)"
   ]
  },
  {
   "cell_type": "markdown",
   "metadata": {},
   "source": [
    "=> Nice, but what happens if the user inputs a text (or more generally, anything else a number)?\n",
    "\n",
    "How can we validate if the input value is a number?\n",
    "\n",
    "In Python, there exist a lot of internal functions (or methods) to perform such tests."
   ]
  },
  {
   "cell_type": "code",
   "execution_count": null,
   "metadata": {},
   "outputs": [],
   "source": [
    "## Enter your code below\n",
    "to_units = 24 \n",
    "name_of_unit = \"hours\"\n",
    "\n",
    "def  func_days_to_units(num_of_days):\n",
    "    if num_of_days > 0:\n",
    "         return f\"{num_of_days} days are {num_of_days*to_units} {name_of_unit}.\"\n",
    "    elif num_of_days == 0:\n",
    "        return \"You entered the forbiden 0 value.\"\n",
    "    else:\n",
    "        return \"You entered a forbiden negative value!\" \n",
    "\n",
    "    \n",
    "user_input = input(\"Enter a number of days, and I will convert it!\\n\")\n",
    "\n",
    "if user_input.isdigit():\n",
    "    user_input_number = int(user_input)\n",
    "    calculated_value = func_days_to_units(user_input_number)   \n",
    "    print(calculated_value)\n",
    "else:\n",
    "    print(\"Invalid value, please do not try to crash my program!\\n\")"
   ]
  },
  {
   "cell_type": "markdown",
   "metadata": {},
   "source": [
    "Could you propose a more clean version of your code?\n",
    " \n",
    "Idea: \n",
    "* try to encapsulate all your validation tests in a dedicated function"
   ]
  },
  {
   "cell_type": "code",
   "execution_count": null,
   "metadata": {},
   "outputs": [],
   "source": [
    "##  Enter your code below\n",
    "to_units = 24 \n",
    "name_of_unit = \"hours\"\n",
    "\n",
    "def func_days_to_units(num_of_days):  \n",
    "    return f\"{num_of_days} days are {num_of_days*to_units} {name_of_unit}.\"\n",
    "\n",
    "def validate_and_execute():\n",
    "    if user_input.isdigit():\n",
    "        user_input_number = int(user_input)\n",
    "        if user_input_number > 0:\n",
    "            calculated_value = func_days_to_units(user_input_number)   \n",
    "            print(calculated_value)\n",
    "        elif user_input_number == 0:\n",
    "            print(\"You entered the forbiden 0 value.\")\n",
    "    else:\n",
    "        print(\"Invalid value, please do not try to crash my program!\\n\")\n",
    "    \n",
    "\n",
    "user_input = input(\"Enter a number of days, and I will convert it!\\n\")\n",
    "validate_and_execute()"
   ]
  },
  {
   "cell_type": "markdown",
   "metadata": {},
   "source": [
    "**==========================================================================================**\n",
    "\n",
    "<u>**Step 2**</u> **-** **Exception handling** \n",
    "\n",
    "Your code can be more clean if you use the Python **Try/Catch** mechanism (see [more information](https://docs.python.org/3/library/exceptions.html#exception-context)).\n",
    "\n",
    "Always keep in mind that **user is evil**.\n",
    "\n",
    "```python\n",
    "try:\n",
    "\n",
    "except <ERROR_TYPE>:\n",
    "```\n",
    "\n",
    "=> Propose a modified version of your code including this mechanism. "
   ]
  },
  {
   "cell_type": "code",
   "execution_count": null,
   "metadata": {},
   "outputs": [],
   "source": [
    "## Enter your code below\n",
    "to_units = 24 \n",
    "name_of_unit = \"hours\"\n",
    "\n",
    "def  func_days_to_units(num_of_days):\n",
    "    return f\"{num_of_days} days are {num_of_days*to_units} {name_of_unit}.\"\n",
    "\n",
    "def verification_inputs():\n",
    "    try:\n",
    "        user_input_number = int(user_input)\n",
    "        if user_input_number > 0:\n",
    "            print(func_days_to_units(user_input_number))\n",
    "        elif user_input_number == 0:\n",
    "            print(\"You entered the forbidden 0 value.\\n\") \n",
    "        else:    ## Since we do not use the isdigit() method, we have to include this non-negative test\n",
    "            print(\"You entered a forbidden negative value!\\n\") \n",
    "    \n",
    "    except ValueError:\n",
    "        print(\"Invalid value, please do not try to crash my program!\\n\")\n",
    "        \n",
    "\n",
    "user_input = input(\"Enter a number of days, and I will convert it!\\n\")\n",
    "verification_inputs()"
   ]
  },
  {
   "cell_type": "markdown",
   "metadata": {},
   "source": [
    "**==========================================================================================**\n",
    "\n",
    "<u>**Step 3**</u> **-** **While loops** \n",
    "\n",
    "Now your program is clean, it can smartly handle user inputs, even bad ones.\n",
    "But, it can only work for one input.\n",
    "\n",
    "The solution to reuse efficiently this program is to embed it in a **while loop**.\n",
    "\n",
    "```python\n",
    "while <loop_stop_condition>:\n",
    "   <do_loop_stuff>\n",
    "```\n"
   ]
  },
  {
   "cell_type": "code",
   "execution_count": null,
   "metadata": {},
   "outputs": [],
   "source": [
    "## Enter your code below\n",
    "to_units = 24 \n",
    "name_of_unit = \"hours\"\n",
    "\n",
    "def  func_days_to_units(num_of_days):\n",
    "    return f\"{num_of_days} days are {num_of_days*to_units} {name_of_unit}.\"\n",
    "\n",
    "def verification_inputs():\n",
    "    try:\n",
    "        user_input_number = int(user_input)\n",
    "        if user_input_number > 0:\n",
    "            print(func_days_to_units(user_input_number))\n",
    "        elif user_input_number == 0:\n",
    "            print(\"You entered the forbidden 0 value.\\n\") \n",
    "        else:    ## Since we do not use the isdigit() method, we have to include this non-negative test\n",
    "            print(\"You entered a forbidden negative value!\\n\") \n",
    "    \n",
    "    except ValueError:\n",
    "        print(\"Invalid value, please do not try to crash my program!\\n\")\n",
    "        \n",
    "\n",
    "user_input = \"\"\n",
    "while user_input != \"stop\":\n",
    "    user_input = input(\"Enter a number of days, and I will convert it! \\nOr, enter (stop) to kill the program.\\n\")\n",
    "    if user_input != \"stop\":\n",
    "        verification_inputs()\n",
    "    else: \n",
    "        print(\"Thanks for playing with us, good bye!\")"
   ]
  },
  {
   "cell_type": "markdown",
   "metadata": {},
   "source": [
    "_Step 3_ - **For loops** \n",
    "\n",
    "Another option is to provide to the program a **List** of values, and to process each element of the list in a **For loop**.\n",
    "\n",
    "```python\n",
    "for <loop_condition>:\n",
    "      <do_loop_stuff>\n",
    "```\n",
    "\n",
    "<u>Nota bene</u>: \n",
    "A **list** is a collection of objects which **ordered and mutable**. It is a particular type of _Tuples_ which are also sequences, just like lists but they are _immutable_. The differences between tuples and lists are, the tuples cannot be changed unlike lists and tuples use parentheses, whereas lists use square brackets."
   ]
  },
  {
   "cell_type": "code",
   "execution_count": null,
   "metadata": {},
   "outputs": [],
   "source": [
    "## Enter your code below\n",
    "to_units = 24 \n",
    "name_of_unit = \"hours\"\n",
    "\n",
    "def  func_days_to_units(num_of_days):\n",
    "    return f\"{num_of_days} days are {num_of_days*to_units} {name_of_unit}.\"\n",
    "\n",
    "def verification_inputs():\n",
    "    try:\n",
    "        user_input_number = int(num_of_days)\n",
    "        if user_input_number > 0:\n",
    "            print(func_days_to_units(user_input_number))\n",
    "        elif user_input_number == 0:\n",
    "            print(\"You entered the forbidden 0 value.\\n\") \n",
    "        else:    ## Since we do not use the isdigit() method, we have to include this non-negative test\n",
    "            print(\"You entered a forbidden negative value!\\n\") \n",
    "    \n",
    "    except ValueError:\n",
    "        print(\"Invalid value, please do not try to crash my program!\\n\")\n",
    "        \n",
    "\n",
    "user_input = \"\"\n",
    "\n",
    "while user_input != \"stop\":\n",
    "    user_input = input(\"Enter a list of number of days as a comma separated list, and I will convert it!\\nOr, type (stop) to kill the program.\\n\")\n",
    "    if user_input != \"stop\":\n",
    "        for num_of_days in user_input.split(\",\"):    ## List exploration is implicit // split() will convert a string into a list elements seperated with comma\n",
    "            verification_inputs()\n",
    "    else:\n",
    "        print(\"Thanks for playing with us, good bye!\")"
   ]
  },
  {
   "cell_type": "markdown",
   "metadata": {},
   "source": [
    "**==========================================================================================**\n",
    "\n",
    "                            **Python lists in a nuttshell**\n",
    "\n",
    "The list data type provides many methods for the programmer : **.append(** _<_ _element_ _>_ **)**, **.remove(** _<_ _element_ _>_ **)**, ...\n",
    "\n",
    "The elements in a list are order from _0_ to _(size_of_list -1)_\n",
    "\n",
    "Here are some examples:"
   ]
  },
  {
   "cell_type": "code",
   "execution_count": null,
   "metadata": {},
   "outputs": [],
   "source": [
    "my_list=[\"one\", \"two\", \"Three\"]\n",
    "print(my_list)"
   ]
  },
  {
   "cell_type": "code",
   "execution_count": null,
   "metadata": {},
   "outputs": [],
   "source": [
    "print(my_list[1])"
   ]
  },
  {
   "cell_type": "code",
   "execution_count": null,
   "metadata": {},
   "outputs": [],
   "source": [
    "my_list.append(\"four\")\n",
    "print(my_list)"
   ]
  },
  {
   "cell_type": "code",
   "execution_count": null,
   "metadata": {},
   "outputs": [],
   "source": [
    "my_list.insert(1, \"one_dot_five\")\n",
    "print(my_list)"
   ]
  },
  {
   "cell_type": "markdown",
   "metadata": {},
   "source": [
    "**==========================================================================================**\n",
    "\n",
    "\n",
    "<u>**Step 4**</u> **-** **Sets** \n",
    "\n",
    "Lei's imagine that a user provides to our program a list of number of days, but with duplicated values.\n",
    "\n",
    "_e.g._: \n",
    "\n",
    "_10, 50, 30, 10, 60_\n",
    "\n",
    "Our code will consider these inputs as this list: **[10, 50, 30, 10, 10]**\n",
    "\n",
    "I think that you already understand that a **set** in Python will avoid such duplication (see [more information](https://docs.python.org/3/library/stdtypes.html?highlight=set#set)).\n",
    "\n",
    "In pedagogical example, the resulting set will be: **{10, 50, 30}** \n",
    "\n",
    "```python\n",
    "set(list_elements)\n",
    "```\n",
    "\n",
    "_Nota bene_: sets are represented betwen **{...}**, while lists are represented between **[...]**\n"
   ]
  },
  {
   "cell_type": "code",
   "execution_count": null,
   "metadata": {},
   "outputs": [],
   "source": [
    "## Enter your code below\n",
    "to_units = 24 \n",
    "name_of_unit = \"hours\"\n",
    "\n",
    "def  func_days_to_units(num_of_days):\n",
    "    return f\"{num_of_days} days are {num_of_days*to_units} {name_of_unit}.\"\n",
    "\n",
    "def verification_inputs():\n",
    "    try:\n",
    "        user_input_number = int(num_of_days)\n",
    "        if user_input_number > 0:\n",
    "            print(func_days_to_units(user_input_number))\n",
    "        elif user_input_number == 0:\n",
    "            print(\"You entered the forbidden 0 value.\\n\") \n",
    "        else:    ## Since we do not use the isdigit() method, we have to include this non-negative test\n",
    "            print(\"You entered a forbidden negative value!\\n\") \n",
    "    \n",
    "    except ValueError:\n",
    "        print(\"Invalid value, please do not try to crash my program!\\n\")\n",
    "        \n",
    "\n",
    "user_input = \"\"\n",
    "\n",
    "while user_input != \"stop\":\n",
    "    user_input = input(\"Enter a list of number of days as a comma separated list, and I will convert it!\\nOr, type (stop) to kill the program.\\n\")\n",
    "    if user_input != \"stop\":\n",
    "        list_of_days = user_input.split(\", \")      ## Be carefull in Jupyter spaces are not removed when the element is added in the list!!\n",
    "       # print(type(list_of_days))\n",
    "       # print(list_of_days)\n",
    "       # print(set(list_of_days))\n",
    "       # print(type(set(list_of_days)))\n",
    "        for num_of_days in set(list_of_days):    ## set (List) conversion of a List into a set\n",
    "            verification_inputs()\n",
    "    else:\n",
    "        print(\"Thanks for playing with us, good bye!\")"
   ]
  },
  {
   "cell_type": "markdown",
   "metadata": {},
   "source": [
    "**==========================================================================================**\n",
    "\n",
    "                            **Python sets in a nuttshell**\n",
    "\n",
    "The set data type provides many methods for the programmer : **.add(** _<_ _element_ _>_ **)**, **.remove(** _<_ _element_ _>_ **)**, ...\n",
    "\n",
    "The elements cannot be accessed by an numeric ordering, but only through loops.\n",
    "\n",
    "One consequence is that the element in a given set is not ordered! \n",
    "\n",
    "Here are some examples:"
   ]
  },
  {
   "cell_type": "code",
   "execution_count": null,
   "metadata": {},
   "outputs": [],
   "source": [
    "my_set = {\"Janvier\", \"Février\", \"Mars\"}\n",
    "for element in my_set:\n",
    "    print(element)"
   ]
  },
  {
   "cell_type": "code",
   "execution_count": null,
   "metadata": {},
   "outputs": [],
   "source": [
    "my_set.add(\"Avril\")\n",
    "print(my_set)"
   ]
  },
  {
   "cell_type": "markdown",
   "metadata": {},
   "source": [
    "**==========================================================================================**\n",
    "\n",
    "\n",
    "<u>**Step 5**</u> **-** **Dictionary** \n",
    "\n",
    "The _dictionary_ are another composite data typesin Python (see [more information](https://docs.python.org/3/tutorial/datastructures.html)).\n",
    "\n",
    "Dictionaries and lists share the following characteristics:\n",
    "* Both are mutable.\n",
    "* Both are dynamic. They can grow and shrink as needed.\n",
    "* Both can be nested. A list can contain another list. A dictionary can contain another dictionary. A dictionary can also contain a list, and vice versa.\n",
    "\n",
    "Dictionaries differ from lists primarily in how elements are accessed:\n",
    "* List elements are accessed by their position in the list, via indexing.\n",
    "* Dictionary elements are accessed via keys.\n",
    "\n",
    "Dictionaries are Python’s implementation of a data structure that is more generally known as an associative array. \n",
    "A dictionary consists of a collection of _key-value_ pairs. \n",
    "Each _key-value_ pair maps the _key_ to its associated _value_.\n",
    "\n",
    "You can define a dictionary by enclosing a comma-separated list of key-value pairs in curly braces ({}). \n",
    "A colon (:) separates each key from its associated value.\n",
    "\n",
    "=> Try to modify your program to allow the user to specify the number of days and the target unit for conversion. Your code will use dictionary data type."
   ]
  },
  {
   "cell_type": "code",
   "execution_count": null,
   "metadata": {},
   "outputs": [],
   "source": [
    "## Enter your code below\n",
    "\n",
    "def  func_days_to_units(num_of_days, conversion_unit):\n",
    "    if conversion_unit == \"hours\":\n",
    "        return f\"{num_of_days} days are {num_of_days*24} {conversion_unit}.\"\n",
    "    elif conversion_unit == \"minutes\":\n",
    "        return f\"{num_of_days} days are {num_of_days*24*60} {conversion_unit}.\"\n",
    "    elif conversion_unit == \"seconds\":\n",
    "        return f\"{num_of_days} days are {num_of_days*24*60*60} {conversion_unit}.\"\n",
    "    else:\n",
    "        return \"\\nThe conversion unit you entered is unsupported.\\nPlease use <hours>, <minutes> or <seconds>.\\n\"\n",
    "\n",
    "\n",
    "def verification_inputs():\n",
    "    try:\n",
    "        user_input_number = int(days_units_dictionary[\"Days\"])\n",
    "        if user_input_number > 0:\n",
    "            print(func_days_to_units(user_input_number, days_units_dictionary[\"Units\"]))\n",
    "        elif user_input_number == 0:\n",
    "            print(\"You entered the forbidden 0 value.\\n\") \n",
    "        else:    ## Since we do not use the isdigit() method, we have to include this non-negative test\n",
    "            print(\"You entered a forbidden negative value!\\n\") \n",
    "    \n",
    "    except ValueError:\n",
    "        print(\"Invalid value, please do not try to crash my program!\\n\")\n",
    "        \n",
    "\n",
    "user_input = \"\"\n",
    "\n",
    "while user_input != \"stop\":\n",
    "    user_input = input(\"\\nEnter a number of days and a conversion unit (<Num_of_days>:<unit>)\\nOr, type (stop) to kill the program.\\n\")\n",
    "    if user_input != \"stop\":\n",
    "        days_units = user_input.split(\":\")      \n",
    "        days_units_dictionary = {\"Days\": days_units[0], \"Units\": days_units[1]}\n",
    "        verification_inputs()\n",
    "    else:\n",
    "        print(\"\\nThanks for playing with us, good bye!\\n\")"
   ]
  },
  {
   "cell_type": "code",
   "execution_count": null,
   "metadata": {},
   "outputs": [],
   "source": []
  }
 ],
 "metadata": {
  "kernelspec": {
   "display_name": "Python 3",
   "language": "python",
   "name": "python3"
  },
  "language_info": {
   "codemirror_mode": {
    "name": "ipython",
    "version": 3
   },
   "file_extension": ".py",
   "mimetype": "text/x-python",
   "name": "python",
   "nbconvert_exporter": "python",
   "pygments_lexer": "ipython3",
   "version": "3.8.5"
  }
 },
 "nbformat": 4,
 "nbformat_minor": 4
}
