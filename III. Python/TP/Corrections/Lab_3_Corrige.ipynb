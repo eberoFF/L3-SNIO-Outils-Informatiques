{
 "cells": [
  {
   "cell_type": "markdown",
   "id": "0e675a53",
   "metadata": {},
   "source": [
    "# TP3 - CASSER UN CRYPTOSYSTEME\n",
    "Dans ce TP nous allons explorer le chiffrement et le déchiffrement des messages codés.\n",
    "\n",
    "Pour cet exercice il faudra compléter le programme proposé et vérifier son fonctionnement avec plusieurs exemples.\n",
    "\n",
    "Une fois le programme fonctionnel, il faut faire une démonstration à l'enseignant.\n",
    "\n",
    "## Chaque programme devra être commenté afin d'expliquer la solution développée."
   ]
  },
  {
   "cell_type": "markdown",
   "id": "52dd23fd",
   "metadata": {},
   "source": [
    "# Programme 1\n",
    "On veut chiffrer/déchiffrer un message avec un décalage aléatoire entre 1 et 25 positions basé sur le chiffre de César. La méthode de chiffrement/déchiffrement est la suivante :\n",
    "- La première étape consist à choisir le mode chiffrer un texte ou déchiffrer un cryptogramme. Dans le premier cas, saisissez la lettre (c) et pour le second, la lettre (d),\n",
    "- Il vous sera demander ensuite de saisir le texte ou le cryptogramme, selon le cas, puis le décalage de la clé choisie,\n",
    "- S'il y a un espace ou un autre caractère non-alphabétique, il doit s'ajouter à la chaîne du message,\n",
    "- Selon le mode choisi et le décalage saisi, chiffrer le texte ou déchiffrer le cryptogramme.\n",
    "\n",
    "## Question\n",
    "Ecrire un programme qui permet de saisir un texte ou un cryptogramme, composé uniquement par des lettres majuscules, puis afficher le chiffrement ou déchiffrement du message selon le décalage choisi."
   ]
  },
  {
   "cell_type": "markdown",
   "id": "c8f88210",
   "metadata": {},
   "source": [
    "Pour vous aider, vous pouvez utiliser les fonctions suivantes : input, find, l'opération modulo\n",
    "\n",
    "Vous trouverez ci-dessous un exemple d'utilisation de la function input :"
   ]
  },
  {
   "cell_type": "code",
   "execution_count": null,
   "id": "0ccc0f0d",
   "metadata": {},
   "outputs": [],
   "source": [
    "x = input('Veuillez écrire votre nom : ')\n",
    "print('Bonjour, ' + x)"
   ]
  },
  {
   "cell_type": "code",
   "execution_count": 3,
   "id": "1b9b1f33",
   "metadata": {},
   "outputs": [
    {
     "name": "stdout",
     "output_type": "stream",
     "text": [
      "¿ Voulez-vous chiffrer ou déchiffrer ? (c/d) c\n",
      "Ecrivez la phrase : Python is one of the most popular programming languages\n",
      "Ajoutez le décalage (1-25) : 5\n",
      "UDYMTS NX TSJ TK YMJ RTXY UTUZQFW UWTLWFRRNSL QFSLZFLJX\n"
     ]
    }
   ],
   "source": [
    "alpha = 'ABCDEFGHIJKLMNOPQRSTUVWXYZ'\n",
    "chiffre = ''\n",
    "mode = input('¿ Voulez-vous chiffrer ou déchiffrer ? (c/d) ')\n",
    "texte = input('Ecrivez la phrase : ')\n",
    "cle = int(input('Ajoutez le décalage (1-25) : '))\n",
    "for lettre in texte.upper():\n",
    "    if lettre in alpha:\n",
    "        pos = alpha.find(lettre)\n",
    "        if mode == 'c':\n",
    "            pos = (pos + cle) % 26\n",
    "        elif mode == 'd':\n",
    "            pos = (pos - cle) % 26\n",
    "        chiffre += alpha[pos]\n",
    "    else:\n",
    "        chiffre += lettre\n",
    "print(chiffre)"
   ]
  },
  {
   "cell_type": "markdown",
   "id": "281d29d9",
   "metadata": {},
   "source": [
    "# Programme 2\n",
    "Le faible nombre de clés possibles avec le chiffre de César, fait qu'il est très rapidement cassé par une attaque par force brute.\n",
    "En cryptographie, on appelle attaque par force brute une façon de trouver une clé en essayant toutes les combinaisons possibles jusqu'à trouver celle qui permet de récupérer le texte en clair.\n",
    "Dans ce programme, nous allons voir comment construire un programme Python qui nous permet de casser un chiffre de César par la méthode de la force brute de la façon suivante :\n",
    "\n",
    "- Avec la fonction input saisissez un cryptogramme obtenu à partir d'un message en texte clair crypté à l'aide du chiffrement de César. \n",
    "- Créer une boucle qui teste toutes les clés et combinations possibles\n",
    "- Faites une interpolation de chaîne en Python pour afficher la liste de clés possibles\n",
    "## Question\n",
    "Ecrire un programme qui déchiffre par force brute un cryptogramme (chiffre de César), composé uniquement par des lettres majuscules, puis afficher le déchiffrement du message. Vous pouvez essayer le cryptogramme : UDYMTS NX TSJ TK YMJ RTXY UTUZQFW UWTLWFRRNSL QFSLZFLJX"
   ]
  },
  {
   "cell_type": "markdown",
   "id": "6b22c900",
   "metadata": {},
   "source": [
    "Vous pouvez utiliser les fonctions suivantes : input, find, range, l'opération modulo\n",
    "\n",
    "Vous trouverez ci-dessous un exemple d'utilisation de l'interpolation de chaîne : "
   ]
  },
  {
   "cell_type": "code",
   "execution_count": null,
   "id": "6d3842c3",
   "metadata": {},
   "outputs": [],
   "source": [
    "print('Article: %s, Prix: %6.2f, Stock: %d' % ('HDD', 99.87, 23))"
   ]
  },
  {
   "cell_type": "code",
   "execution_count": null,
   "id": "df90d1d2",
   "metadata": {},
   "outputs": [],
   "source": [
    "alpha = 'ABCDEFGHIJKLMNOPQRSTUVWXYZ'\n",
    "cryptogramme = input('cryptogramme: ')\n",
    "for cle in range(1,len(alpha)):\n",
    "    dechif = ''\n",
    "    for lettre in cryptogramme.upper():\n",
    "        if lettre in alpha:\n",
    "            pos = alpha.find(lettre)\n",
    "            pos = (pos - cle) % len(alpha)\n",
    "            dechif += alpha[pos]\n",
    "        else:\n",
    "            dechif += lettre\n",
    "    print('Cle %d: %s' % (cle, dechif))"
   ]
  },
  {
   "cell_type": "markdown",
   "id": "c2abb195",
   "metadata": {},
   "source": [
    "# # Defi 1 : Créer un programme qui chiffre/déchiffre la composition de l’alphabet français, les nombres et les voyelles accentuées.\n",
    "Pendant la seconde guerre mondiale, les zones de provisions d'armes et de parachutages étaient diffusées par la BBC. En vous bassant sur ces message énoncés, chiffrez les zones de ravitaillement des troupes. Vous pouvez utiliser la clé secrète de décalage que vous voulez.\n",
    "- 1 km Ouest de Bourdeilles\n",
    "- 9 km Sud-Est de Gentious\n",
    "- 3 km Nord-Est de Saint-Alvère\n",
    "- 5 km Sud-Ouest de Ribérac\n",
    "- 7 km Sud-Ouest de Thenon\n",
    "\n",
    "# #  Défi 2 : Ecrire un programme qui permet de simuler une attaque par force brute pour déchiffrer les cinq zones de ravitaillement des troupes chiffrées précédemment. "
   ]
  },
  {
   "cell_type": "code",
   "execution_count": null,
   "id": "1f5d6f35",
   "metadata": {},
   "outputs": [],
   "source": [
    "#defi1\n",
    "alpha = '&é[\\\\]\\'()-è_çà=1234567890°+AZERTYUIOP¨£azertyuiop^$QSDFGHJKLM%qsdfghjklmùWXCVBN?./§wxcvbn,;:!'\n",
    "chiffre = ''\n",
    "texte = input('Ecrivez la phrase : ')\n",
    "cle = int(input('Ajoutez le décalage (1-50) : '))\n",
    "for lettre in texte:\n",
    "    if lettre in alpha:\n",
    "        pos = alpha.find(lettre)\n",
    "        pos = (pos + cle) % len(alpha)\n",
    "        chiffre += alpha[pos]\n",
    "    else:\n",
    "        chiffre += lettre\n",
    "print(chiffre)"
   ]
  },
  {
   "cell_type": "code",
   "execution_count": null,
   "id": "77994372",
   "metadata": {},
   "outputs": [],
   "source": [
    "#defi2\n",
    "alpha = '&é[\\\\]\\'()-è_çà=1234567890°+AZERTYUIOP¨£azertyuiop^$QSDFGHJKLM%qsdfghjklmùWXCVBN?./§wxcvbn,;:!'\n",
    "cryptogramme = input('cryptogramme: ')\n",
    "for cle in range(1,len(alpha)):\n",
    "    sortie = ''\n",
    "    for lettre in cryptogramme:\n",
    "        if lettre in alpha:\n",
    "            pos = alpha.find(lettre)\n",
    "            pos = (pos - cle) % len(alpha)\n",
    "            sortie += alpha[pos]\n",
    "        else:\n",
    "            sortie += lettre\n",
    "    print('Cle %d: %s' % (cle, sortie))"
   ]
  },
  {
   "cell_type": "code",
   "execution_count": null,
   "id": "7128e31a",
   "metadata": {},
   "outputs": [],
   "source": []
  }
 ],
 "metadata": {
  "kernelspec": {
   "display_name": "Python 3 (ipykernel)",
   "language": "python",
   "name": "python3"
  },
  "language_info": {
   "codemirror_mode": {
    "name": "ipython",
    "version": 3
   },
   "file_extension": ".py",
   "mimetype": "text/x-python",
   "name": "python",
   "nbconvert_exporter": "python",
   "pygments_lexer": "ipython3",
   "version": "3.9.13"
  }
 },
 "nbformat": 4,
 "nbformat_minor": 5
}
