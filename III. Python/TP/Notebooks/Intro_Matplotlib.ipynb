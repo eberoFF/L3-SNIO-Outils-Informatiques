{
 "cells": [
  {
   "cell_type": "markdown",
   "metadata": {},
   "source": [
    "# Introduction to Matplotlib\n",
    "\n",
    "Matplotlib is 2D(/3D) graphic library for Python (with integration into Jupyter, IPython, etc).\n",
    "\n",
    "Resources: \n",
    "[matplotlib website](https://matplotlib.org/), &nbsp; \n",
    "[documentation](https://matplotlib.org/contents.html), &nbsp;\n",
    "[API](https://matplotlib.org/api/index.html), &nbsp;\n",
    "[tutorials](https://matplotlib.org/tutorials/index.html), &nbsp;\n",
    "[gallery with many plot examples](https://matplotlib.org/gallery/)."
   ]
  },
  {
   "cell_type": "markdown",
   "metadata": {},
   "source": [
    "## Setup"
   ]
  },
  {
   "cell_type": "markdown",
   "metadata": {},
   "source": [
    "The Jupyter magic function `%matplotlib inline` is required in a Jupyter notebook to show plots inside the notebook (otherwise, external windows will be created)."
   ]
  },
  {
   "cell_type": "code",
   "execution_count": null,
   "metadata": {},
   "outputs": [],
   "source": [
    "%matplotlib inline"
   ]
  },
  {
   "cell_type": "code",
   "execution_count": null,
   "metadata": {},
   "outputs": [],
   "source": [
    "import matplotlib\n",
    "import matplotlib.pyplot as plt      # alias used by convention"
   ]
  },
  {
   "cell_type": "code",
   "execution_count": null,
   "metadata": {},
   "outputs": [],
   "source": [
    "dir(plt)"
   ]
  },
  {
   "cell_type": "code",
   "execution_count": null,
   "metadata": {},
   "outputs": [],
   "source": [
    "import numpy as np    # we use NumPy for some examples"
   ]
  },
  {
   "cell_type": "markdown",
   "metadata": {},
   "source": [
    "## First Plot"
   ]
  },
  {
   "cell_type": "code",
   "execution_count": null,
   "metadata": {},
   "outputs": [],
   "source": [
    "x = np.linspace(-np.pi, np.pi, 100)  # <last arg> points regularly spaced in [<first arg>, <second arg>]"
   ]
  },
  {
   "cell_type": "code",
   "execution_count": null,
   "metadata": {},
   "outputs": [],
   "source": [
    "plt.plot(x, np.sin(x), label='sine')\n",
    "plt.plot(x, np.cos(x), label='cosine')\n",
    "plt.xlabel('X')\n",
    "plt.ylabel('Y')\n",
    "plt.title('Sine and cosine over $[-\\pi, \\pi]$', fontsize=20)\n",
    "plt.legend()\n",
    "plt.show()"
   ]
  },
  {
   "cell_type": "markdown",
   "metadata": {},
   "source": [
    "Legend location: `legend(loc='<loc>')` with default to `'best'`, alternatives for `<loc>`:\n",
    "    `right`,\n",
    "\t`center left`,\n",
    "\t`upper right`,\n",
    "\t`lower right`,\n",
    "\t`best`,\n",
    "\t`center`,\n",
    "\t`lower left`,\n",
    "\t`center right`,\n",
    "\t`upper left`,\n",
    "\t`upper center`,\n",
    "\t`lower center`."
   ]
  },
  {
   "cell_type": "markdown",
   "metadata": {},
   "source": [
    "## Simple Histogram"
   ]
  },
  {
   "cell_type": "code",
   "execution_count": null,
   "metadata": {},
   "outputs": [],
   "source": [
    "mu, sigma = 100, 15\n",
    "r = mu + sigma * np.random.randn(100)  # random values with (mu, sigma) normal distribution\n",
    "plt.hist(r, bins=4)\n",
    "plt.show()"
   ]
  },
  {
   "cell_type": "markdown",
   "metadata": {},
   "source": [
    "## Save to File\n",
    "\n",
    "Supported formats: `pdf`, `png`, `eps`, `ps`, `svg`."
   ]
  },
  {
   "cell_type": "code",
   "execution_count": null,
   "metadata": {},
   "outputs": [],
   "source": [
    "plt.plot([0, 1], [0, 1])\n",
    "plt.savefig('fig.pdf', dpi=300, bbox_inches='tight', pad_inches=0)  \n",
    "    # dpi = dot per inch, bbox = bounding box, pad = padding space arround the fig"
   ]
  },
  {
   "cell_type": "markdown",
   "metadata": {},
   "source": [
    "## Limits and Axis Ticks"
   ]
  },
  {
   "cell_type": "code",
   "execution_count": null,
   "metadata": {},
   "outputs": [],
   "source": [
    "plt.plot([0, 1], [0, 1], marker='o')\n",
    "plt.xlim([-1, 2])                      # visible interval\n",
    "plt.ylim([-1, 2])                      # visible interval \n",
    "plt.show()"
   ]
  },
  {
   "cell_type": "code",
   "execution_count": null,
   "metadata": {},
   "outputs": [],
   "source": [
    "plt.plot([0, 1], [0, 1], marker='o')\n",
    "plt.axis([-2, 3, -0.5, 1.5])            # xlim and ylim in the same line\n",
    "plt.show()"
   ]
  },
  {
   "cell_type": "code",
   "execution_count": null,
   "metadata": {},
   "outputs": [],
   "source": [
    "plt.figure(figsize=(4, 4))\n",
    "plt.grid()\n",
    "plt.plot(x, np.sin(x))\n",
    "plt.axis('equal')\n",
    "plt.show()"
   ]
  },
  {
   "cell_type": "code",
   "execution_count": null,
   "metadata": {},
   "outputs": [],
   "source": [
    "plt.plot([0, 1], [0, 1], marker='o')\n",
    "plt.xlim([-2, 3])\n",
    "plt.xticks([-1, 0, 1, 2], ['x=-1', 'x=0', 'x=1'], fontsize=20)   # list of ticks positions\n",
    "                                                                 # list of ticks legends\n",
    "plt.yticks(np.linspace(-1, 2, 8))    # list of ticks positions\n",
    "plt.show()"
   ]
  },
  {
   "cell_type": "markdown",
   "metadata": {},
   "source": [
    "## Lines / Points Properties\n",
    "\n",
    "* `color` name or RGB definition;\n",
    "* `linewidth` or `lw`;\n",
    "* `linestyle` or `ls` see `help(plt.Line2D.set_linestyle)`;\n",
    "* `marker` see `help(matplotlib.markers)`;"
   ]
  },
  {
   "cell_type": "code",
   "execution_count": null,
   "metadata": {},
   "outputs": [],
   "source": [
    "ycst = np.ones_like(x)"
   ]
  },
  {
   "cell_type": "code",
   "execution_count": null,
   "metadata": {},
   "outputs": [],
   "source": [
    "styles = (None, '-', '--', '-.', ':')\n",
    "for i, s in enumerate(styles):\n",
    "    plt.plot(x, i * ycst, ls=s, lw=5)\n",
    "plt.show()"
   ]
  },
  {
   "cell_type": "code",
   "execution_count": null,
   "metadata": {},
   "outputs": [],
   "source": [
    "color_names = (None, 'red', 'green', 'blue', 'orange', 'yellow', 'magenta', 'aquamarine', 'tomato')  # etc.\n",
    "color_defs = ('#ff0000', '#00ff00', '#0000ff', [0, 0, 0])    # hexa RBG format, RBG values in [0,1] \n",
    "for i, c in enumerate(color_names): \n",
    "    plt.plot(x, i * ycst, lw=5, color=c)\n",
    "for i, c in enumerate(color_defs): \n",
    "    plt.plot(x, -2 - i * ycst, lw=5, color=c)\n",
    "plt.show()"
   ]
  },
  {
   "cell_type": "markdown",
   "metadata": {},
   "source": [
    "`alpha`: 0.0 transparent through 1.0 opaque."
   ]
  },
  {
   "cell_type": "code",
   "execution_count": null,
   "metadata": {},
   "outputs": [],
   "source": [
    "for i, a in enumerate(np.linspace(1, 0, 11)):\n",
    "    plt.plot([0, 1], [1 - i / 10.0, 1 - i / 10.0], 'b', lw=5, alpha=a, label='{0:1.1f}'.format(a))\n",
    "plt.xlim([0, 1.3])\n",
    "plt.legend()\n",
    "plt.show()"
   ]
  },
  {
   "cell_type": "code",
   "execution_count": null,
   "metadata": {},
   "outputs": [],
   "source": [
    "markers = (None, 'o', '.', '*', '^', 'v', '<', '>', 'd', 'h', '1', '|', '_')   # etc.\n",
    "xp = np.linspace(0, 1, 10)\n",
    "ypcst = np.ones_like(xp)\n",
    "for i, m in enumerate(markers):\n",
    "    plt.plot(xp, i * ypcst, lw=0.1, marker=m, markersize=10)\n",
    "plt.show()"
   ]
  },
  {
   "cell_type": "code",
   "execution_count": null,
   "metadata": {},
   "outputs": [],
   "source": [
    "x2 = np.linspace(0, 1, 10)\n",
    "plt.plot(x2, np.sin(x2), 'r-D', x2, np.cos(x2), 'g:o')    # style and color can be mixed in a short description\n",
    "plt.show()"
   ]
  },
  {
   "cell_type": "markdown",
   "metadata": {},
   "source": [
    "## Figure Attributes"
   ]
  },
  {
   "cell_type": "code",
   "execution_count": null,
   "metadata": {},
   "outputs": [],
   "source": [
    "plt.figure(figsize=(15, 1), dpi=100, facecolor='lightgrey')   # (width, height) in inches, dot per inch\n",
    "plt.plot(x, np.sin(x))\n",
    "plt.show()"
   ]
  },
  {
   "cell_type": "markdown",
   "metadata": {},
   "source": [
    "## Annotation, Text and Arrow"
   ]
  },
  {
   "cell_type": "code",
   "execution_count": null,
   "metadata": {},
   "outputs": [],
   "source": [
    "plt.plot(x, np.sin(x), 'r-')\n",
    "plt.xlim([-3.1, 3.1])\n",
    "plt.text(-3.1, 0.75, 'ABCDj', fontsize=30, bbox=dict(facecolor='magenta', alpha=0.5))\n",
    "plt.text(-np.pi / 2.0, -0.7, 'sine function', horizontalalignment='center')   # text starting at (x, y)\n",
    "plt.annotate('max', xy=(np.pi / 2, 1), xytext=(np.pi / 6, 0), arrowprops=dict(color='blue', lw=0.1))\n",
    "plt.arrow(1, -0.75, 1, 0, color='green', head_width=0.5)    # arrow (x, y, delta_x, delta_y) \n",
    "plt.show()"
   ]
  },
  {
   "cell_type": "markdown",
   "metadata": {},
   "source": [
    "## More Advanced Histogram"
   ]
  },
  {
   "cell_type": "code",
   "execution_count": null,
   "metadata": {},
   "outputs": [],
   "source": [
    "mu, sigma = 100, 15\n",
    "r = mu + sigma * np.random.randn(1000)     # random values with (mu, sigma) normal distribution\n",
    "pop, bins, _ = plt.hist(r, bins=20)        # pop is the population list of the bins\n",
    "                                           # bins is the list of bins boundaries\n",
    "                                           # there is a third result (useless then name = '_')\n",
    "plt.xlim([mu - 5 * sigma, mu + 5 * sigma])\n",
    "plt.ylim([0, 1.05 * np.max(pop)])\n",
    "plt.xticks(mu + sigma * np.arange(-3, 4, 1))  # draw ticks for some special values\n",
    "plt.grid(axis='x', color='r')\n",
    "plt.show()"
   ]
  },
  {
   "cell_type": "markdown",
   "metadata": {},
   "source": [
    "## Filling Between Functions"
   ]
  },
  {
   "cell_type": "code",
   "execution_count": null,
   "metadata": {},
   "outputs": [],
   "source": [
    "plt.plot(x, np.sin(x))\n",
    "plt.fill_between(x, 0, np.sin(x), alpha=0.3)     # fill between <arg2 func> and <arg3 func>\n",
    "plt.show()"
   ]
  },
  {
   "cell_type": "code",
   "execution_count": null,
   "metadata": {},
   "outputs": [],
   "source": [
    "plt.plot(x, np.sin(x))\n",
    "plt.plot(x, 0.5 * np.sin(x), 'red')\n",
    "plt.fill_between(x, 0.5 * np.sin(x), np.sin(x), alpha=0.3)\n",
    "plt.show()"
   ]
  },
  {
   "cell_type": "code",
   "execution_count": null,
   "metadata": {},
   "outputs": [],
   "source": [
    "plt.plot(x, np.sin(x))\n",
    "plt.plot(x, np.sin(x), 'red')\n",
    "plt.fill_between(x, 0, np.sin(x), where = np.sin(x) > 0, color='blue', alpha=0.3)\n",
    "plt.fill_between(x, 0, np.sin(x), where = np.sin(x) < 0, color='orange', alpha=0.3)\n",
    "plt.show()"
   ]
  },
  {
   "cell_type": "markdown",
   "metadata": {},
   "source": [
    "## Multiple Plots\n",
    "\n",
    "`subplot(nbrows, nbcols, plot_number)` in a `nbrows * nbcols` multiple plot figure, `plot_number` is the index of the current subplot (starting from 1 to `nbrows * nbcols`). Example for a 2 x 3 figure:\n",
    "\n",
    "```\n",
    "  ----------------------------------------------------------\n",
    "  | subplot(2, 3, 1) | subplot(2, 3, 2) | subplot(2, 3, 3) |\n",
    "  ----------------------------------------------------------\n",
    "  | subplot(2, 3, 4) | subplot(2, 3, 5) | subplot(2, 3, 6) |\n",
    "  ----------------------------------------------------------\n",
    "```"
   ]
  },
  {
   "cell_type": "code",
   "execution_count": null,
   "metadata": {},
   "outputs": [],
   "source": [
    "plt.figure(figsize=(12,1))\n",
    "for i, f, sc in [(1, np.sin(x), 'r-'), (2, np.sin(2 * x), 'b.'), (3, np.sin(4 * x), 'm--')]:\n",
    "    plt.subplot(1, 3, i)\n",
    "    plt.plot(x, f, sc)\n",
    "plt.show()"
   ]
  },
  {
   "cell_type": "markdown",
   "metadata": {},
   "source": [
    "There is another way to declare multiple plots (axes are subplots in Matplotlib docs):"
   ]
  },
  {
   "cell_type": "code",
   "execution_count": null,
   "metadata": {},
   "outputs": [],
   "source": [
    "fig, (top, bottom) = plt.subplots(2, 1, sharex=True)\n",
    "fig.subplots_adjust(hspace = 0)\n",
    "top.plot(x, np.sin(x), 'r-')\n",
    "bottom.plot(x, np.cos(x), 'b-')\n",
    "plt.show()"
   ]
  },
  {
   "cell_type": "markdown",
   "metadata": {},
   "source": [
    "**Note**: setting functions `plt.<f>` exists with `ax.set_<f>`. Example: `plt.xlim` -> `ax.set_xlim`."
   ]
  },
  {
   "cell_type": "code",
   "execution_count": null,
   "metadata": {},
   "outputs": [],
   "source": [
    "fig, axes = plt.subplots(nrows=2, ncols=3)\n",
    "fig.subplots_adjust(hspace=0.5, wspace=0.5)\n",
    "axes[0, 0].set_title('0, 0', color='r')\n",
    "axes[0, 1].set_title('0, 1', color='r')\n",
    "axes[0, 2].set_title('0, 2', color='r')\n",
    "axes[1, 0].set_title('1, 0', color='g')\n",
    "axes[1, 1].set_title('1, 1', color='g')\n",
    "axes[1, 2].set_title('1, 2', color='g')\n",
    "plt.show()"
   ]
  },
  {
   "cell_type": "code",
   "execution_count": null,
   "metadata": {},
   "outputs": [],
   "source": [
    "plt.figure(facecolor='lightgray')\n",
    "# main plot\n",
    "plt.axes([0.1, 0.1, 0.9, 0.9])   # axes of the main plot  (left, right, width, height) from fig origin\n",
    "plt.plot(x, np.sin(x))   # main plot\n",
    "plt.title('Main')\n",
    "\n",
    "# secondary plot\n",
    "plt.axes([0.15, 0.60, 0.3, 0.3])   # axes of the secondary plot (still from fig origin)\n",
    "plt.plot(x, np.sin(x ** 2), 'r--')\n",
    "plt.title('Secondary', fontsize=8)\n",
    "plt.xticks([])\n",
    "plt.yticks([])\n",
    "\n",
    "plt.show()"
   ]
  },
  {
   "cell_type": "markdown",
   "metadata": {},
   "source": [
    "##  Scatter Plot"
   ]
  },
  {
   "cell_type": "code",
   "execution_count": null,
   "metadata": {},
   "outputs": [],
   "source": [
    "n = 30\n",
    "x = np.random.rand(n)\n",
    "y = np.random.rand(n)\n",
    "areas = 1000 * np.random.rand(n)\n",
    "colors = np.random.rand(n)\n",
    "plt.scatter(x, y, s=areas, c=colors, alpha=0.3)\n",
    "plt.show()"
   ]
  },
  {
   "cell_type": "markdown",
   "metadata": {},
   "source": [
    "## Bar Plot"
   ]
  },
  {
   "cell_type": "code",
   "execution_count": null,
   "metadata": {},
   "outputs": [],
   "source": [
    "from collections import Counter\n",
    "s = 'hello world'\n",
    "cnt = Counter(s)\n",
    "x = range(len(cnt))                           # positions of letters\n",
    "y = cnt.values()                              # nb occurrences of letters\n",
    "l = [\"{}\".format(c) for c in sorted(cnt.keys())]    # letter labels\n",
    "bars = plt.bar(x, y, alpha=0.6)\n",
    "plt.xticks(x, l)\n",
    "for xt, yt in zip(x, y):\n",
    "    plt.text(xt, yt-0.2, '{:3.1f}'.format(100.0*yt/len(s)), horizontalalignment='center')\n",
    "plt.show()"
   ]
  },
  {
   "cell_type": "markdown",
   "metadata": {},
   "source": [
    "## Pie Chart"
   ]
  },
  {
   "cell_type": "code",
   "execution_count": null,
   "metadata": {},
   "outputs": [],
   "source": [
    "ex = [0] * len(cnt)\n",
    "ex[list(y).index(max(y))] = 0.1\n",
    "plt.pie(y, labels=l, explode=ex, startangle=90, shadow=True)\n",
    "plt.show()"
   ]
  },
  {
   "cell_type": "markdown",
   "metadata": {},
   "source": [
    "## Error Bars"
   ]
  },
  {
   "cell_type": "code",
   "execution_count": null,
   "metadata": {},
   "outputs": [],
   "source": [
    "n = 10\n",
    "x = np.arange(n)\n",
    "y = 50 * np.random.rand(n)\n",
    "e = n * np.random.rand(n)\n",
    "plt.errorbar(x, y, yerr=e, lw=1, marker='o', capsize=5, ecolor='red')\n",
    "plt.show()"
   ]
  },
  {
   "cell_type": "markdown",
   "metadata": {},
   "source": [
    "## 2D Scatter Plot"
   ]
  },
  {
   "cell_type": "code",
   "execution_count": null,
   "metadata": {},
   "outputs": [],
   "source": [
    "x, y = np.random.multivariate_normal(mean = [1, 2], cov=[[1, 1], [1, 1.1]], size=50).T\n",
    "plt.scatter(x, y, alpha=0.6)\n",
    "plt.show()"
   ]
  },
  {
   "cell_type": "code",
   "execution_count": null,
   "metadata": {},
   "outputs": [],
   "source": [
    "mask = y > 3\n",
    "xm, ym = x[mask], y[mask]\n",
    "plt.scatter(x, y, s=50, alpha=0.6)\n",
    "plt.scatter(xm, ym, facecolor='red', s=150, alpha=0.2);\n",
    "plt.scatter(x[x.argmin()], y[x.argmin()], facecolor='yellow', s=200, alpha=0.3)\n",
    "plt.show()"
   ]
  },
  {
   "cell_type": "markdown",
   "metadata": {},
   "source": [
    "## Color Maps"
   ]
  },
  {
   "cell_type": "code",
   "execution_count": null,
   "metadata": {},
   "outputs": [],
   "source": [
    "def show_cmap(name):\n",
    "    cmap = plt.cm.get_cmap(name)\n",
    "    colors = cmap(np.arange(cmap.N))\n",
    "    plt.xticks([])\n",
    "    plt.yticks([])\n",
    "    plt.imshow([colors], extent=[0, 8, 0, 1])\n",
    "    plt.show()"
   ]
  },
  {
   "cell_type": "code",
   "execution_count": null,
   "metadata": {},
   "outputs": [],
   "source": [
    "show_cmap('Blues')"
   ]
  },
  {
   "cell_type": "code",
   "execution_count": null,
   "metadata": {},
   "outputs": [],
   "source": []
  },
  {
   "cell_type": "code",
   "execution_count": null,
   "metadata": {},
   "outputs": [],
   "source": []
  },
  {
   "cell_type": "code",
   "execution_count": null,
   "metadata": {},
   "outputs": [],
   "source": []
  }
 ],
 "metadata": {
  "kernelspec": {
   "display_name": "Python 3",
   "language": "python",
   "name": "python3"
  },
  "language_info": {
   "codemirror_mode": {
    "name": "ipython",
    "version": 3
   },
   "file_extension": ".py",
   "mimetype": "text/x-python",
   "name": "python",
   "nbconvert_exporter": "python",
   "pygments_lexer": "ipython3",
   "version": "3.7.3"
  }
 },
 "nbformat": 4,
 "nbformat_minor": 4
}
