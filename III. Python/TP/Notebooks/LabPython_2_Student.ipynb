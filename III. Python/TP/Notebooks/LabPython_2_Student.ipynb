{
 "cells": [
  {
   "cell_type": "markdown",
   "metadata": {},
   "source": [
    "\n",
    "# **Python Second lab**\n",
    "\n",
    "The goal of this course is to practice Python language with a more complex subject.\n",
    "During this lab, you will have to use your Python knowledge develop a small application.\n",
    "\n",
    "During this lab, you should propose a program that will count the number of days from today upto a given deadline defined by the user:\n",
    "\n",
    "_The remain remaining for your goal: learn Python is 300 days._\n",
    "\n",
    "To realise this function, you will have to use some module provided by Python (i.e. _datetime_)\n",
    "(see [more information](https://docs.python.org/fr/3.8/library/datetime.html))\n"
   ]
  },
  {
   "cell_type": "code",
   "execution_count": null,
   "metadata": {},
   "outputs": [],
   "source": [
    "## Enter your code below\n",
    "\n",
    "from datetime import date\n"
   ]
  },
  {
   "cell_type": "markdown",
   "metadata": {},
   "source": [
    "# **Python lab - Use of an external package**\n",
    "\n",
    "The goal of this second lab is to pratice how to install and use an external package.\n",
    "During this lab, you have to program an application to extract information from a spreadsheet and store them into a Python structure (in order to manipulate them later).\n",
    "\n",
    "The external package you have to install is **openpyxl**.\n",
    "\n",
    "This package allows you to _create_, _read_ and _write_ spreadsheets. "
   ]
  },
  {
   "cell_type": "code",
   "execution_count": null,
   "metadata": {},
   "outputs": [],
   "source": [
    "## Enter your code below\n",
    "## or try it in a terminal\n"
   ]
  },
  {
   "cell_type": "markdown",
   "metadata": {},
   "source": [
    "Once the targeted sheet is available, you will be able to manipulate the data.\n",
    "* **First**, for each supplier get the total number of its products.\n"
   ]
  },
  {
   "cell_type": "code",
   "execution_count": null,
   "metadata": {},
   "outputs": [],
   "source": [
    "## Enter your code below\n",
    "## or try it in a terminal\n"
   ]
  },
  {
   "cell_type": "markdown",
   "metadata": {},
   "source": [
    "Instead of using the square brackets **[...]** to get the value from a given dictionnary, it is also possible to use a dedicated **get()** method:\n",
    "\n",
    "\n",
    "```python\n",
    "<dictionary_name>.get(<key>)\n",
    "\n",
    "```\n",
    "\n",
    " \n",
    "* **Second**, extract from this spreadsheet the products and the elements in the stock."
   ]
  },
  {
   "cell_type": "code",
   "execution_count": null,
   "metadata": {},
   "outputs": [],
   "source": [
    "## Enter your code below\n",
    "## or try it in a terminal\n"
   ]
  },
  {
   "cell_type": "markdown",
   "metadata": {},
   "source": [
    "* **Third**, compute the total value of the stock and price."
   ]
  },
  {
   "cell_type": "code",
   "execution_count": null,
   "metadata": {},
   "outputs": [],
   "source": [
    "## Enter your code below\n",
    "## or try it in a terminal\n"
   ]
  },
  {
   "cell_type": "markdown",
   "metadata": {},
   "source": [
    "* **Finaly**, compute the stock value for each product and integrate the result in a new colomn in the spreadsheet."
   ]
  },
  {
   "cell_type": "code",
   "execution_count": null,
   "metadata": {},
   "outputs": [],
   "source": [
    "## Enter your code below\n",
    "## or try it in a terminal\n",
    "\n"
   ]
  }
 ],
 "metadata": {
  "kernelspec": {
   "display_name": "Python 3 (ipykernel)",
   "language": "python",
   "name": "python3"
  },
  "language_info": {
   "codemirror_mode": {
    "name": "ipython",
    "version": 3
   },
   "file_extension": ".py",
   "mimetype": "text/x-python",
   "name": "python",
   "nbconvert_exporter": "python",
   "pygments_lexer": "ipython3",
   "version": "3.9.13"
  }
 },
 "nbformat": 4,
 "nbformat_minor": 4
}
