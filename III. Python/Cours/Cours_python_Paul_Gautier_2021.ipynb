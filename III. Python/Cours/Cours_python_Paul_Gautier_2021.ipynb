{
 "cells": [
  {
   "cell_type": "markdown",
   "id": "married-smile",
   "metadata": {},
   "source": [
    "# I. Introduction au python"
   ]
  },
  {
   "cell_type": "markdown",
   "id": "ccbc9e67",
   "metadata": {},
   "source": [
    "# Cours rédigé par Paul Gautier"
   ]
  },
  {
   "cell_type": "markdown",
   "id": "111a6960",
   "metadata": {},
   "source": [
    "L'objectif de ce cours est de vous transmettre les bases du langage python. "
   ]
  },
  {
   "cell_type": "markdown",
   "id": "demographic-melbourne",
   "metadata": {},
   "source": [
    "Les informations données dans ce notebook sont valables pour les versions de python supérieures ou égales à 3.6."
   ]
  },
  {
   "cell_type": "markdown",
   "id": "changing-snowboard",
   "metadata": {},
   "source": [
    "## 1. Présentation de python"
   ]
  },
  {
   "cell_type": "markdown",
   "id": "continental-maryland",
   "metadata": {},
   "source": [
    "## 1.1 Référencement"
   ]
  },
  {
   "cell_type": "markdown",
   "id": "wooden-temperature",
   "metadata": {},
   "source": [
    "En python, tout est objet, par conséquent, vous allez constamment manipuler des objets.\n",
    "Afin de manipuler un objet, il est nécessaire de le référencer à l'aide d'une variable et de l'opérateur d'affectation =.\n",
    "\n",
    "Par exemple, référençons l'objet entier 1 à l'aide de la variable note."
   ]
  },
  {
   "cell_type": "code",
   "execution_count": null,
   "id": "nutritional-delaware",
   "metadata": {},
   "outputs": [],
   "source": [
    "note = 1"
   ]
  },
  {
   "cell_type": "markdown",
   "id": "naked-baking",
   "metadata": {},
   "source": [
    "Un nom de variable correct est composé uniquement de caractères alphanumériques ou/et de tirets bas _ , mais ne peut pas commencer par un chiffre."
   ]
  },
  {
   "cell_type": "code",
   "execution_count": null,
   "id": "confirmed-southeast",
   "metadata": {},
   "outputs": [],
   "source": [
    "age_moyen = 40"
   ]
  },
  {
   "cell_type": "code",
   "execution_count": null,
   "id": "maritime-startup",
   "metadata": {},
   "outputs": [],
   "source": [
    "ageMoyen = 40 # autorisé mais déconseillé"
   ]
  },
  {
   "cell_type": "markdown",
   "id": "raising-smile",
   "metadata": {},
   "source": [
    "Conventions :\n",
    "- Il est fortement déconseillé d’utiliser des noms de la forme &#95;&#95;variable&#95;&#95; qui sont réservés au langage.\n",
    "- Les noms de variables s'écrivent en minuscule.\n",
    "- Les noms de variables composés sont séparés par un tiret bas\n",
    "- Les noms de variables sont supposés être explicites\n",
    "\n",
    "Conseils :\n",
    "- Ecrivez votre code en anglais (cette série de notebooks est écrite en français pour faciliter votre compréhension)\n",
    "- Bien que cela soit possible, n'utilisez jamais d'accent"
   ]
  },
  {
   "cell_type": "markdown",
   "id": "concerned-offset",
   "metadata": {},
   "source": [
    "## 1.2 Typage dynamique fort"
   ]
  },
  {
   "cell_type": "markdown",
   "id": "progressive-inspiration",
   "metadata": {},
   "source": [
    "Qu'implique le fait que python soit un langage à typage dynamique fort"
   ]
  },
  {
   "cell_type": "code",
   "execution_count": null,
   "id": "handled-seafood",
   "metadata": {},
   "outputs": [],
   "source": [
    "x = 3\n",
    "type(x)"
   ]
  },
  {
   "cell_type": "markdown",
   "id": "impossible-feeding",
   "metadata": {},
   "source": [
    "Il s'est passé trois choses :\n",
    "1. Python a créé un objet 3 de type entier (int).\n",
    "2. Puis il a créé une variable x.\n",
    "3. Pour finir, il crée une référence entre la variable x et l'entier 3."
   ]
  },
  {
   "cell_type": "code",
   "execution_count": null,
   "id": "declared-rogers",
   "metadata": {},
   "outputs": [],
   "source": [
    "x = 'spam'\n",
    "print(type(x), x[0])"
   ]
  },
  {
   "cell_type": "markdown",
   "id": "individual-escape",
   "metadata": {},
   "source": [
    "Le même mécanisme opère :\n",
    "1. Python a créé un objet séquence de caractères spam\n",
    "2. Ensuite, il n'a pas créé la variable x puisqu'elle existe déjà.\n",
    "3. À la place, il a brisé la référence entre x et l'objet précédent 3 (qui n'est plus référencé) et créé une référence entre x et la séquence spam"
   ]
  },
  {
   "cell_type": "markdown",
   "id": "looking-locator",
   "metadata": {},
   "source": [
    "Pour conclure, en python, le type n'est pas lié à la variable qui référence l'objet mais à l'objet. De plus ce typage est fort puisqu'un objet conserve son type durant toute l'exécution du programme. Par contre, une variable pourra référencer différents types d'objets au cours de l'exécution d'un programme."
   ]
  },
  {
   "cell_type": "markdown",
   "id": "sensitive-toddler",
   "metadata": {},
   "source": [
    "Python incorpore un mécanisme de gestion de la mémoire appelé garbage collector qui supprime automatiquement tout objet non référencé.  \n",
    "Il est possible de déréférencer un objet\n",
    "et à l'aide du mot-clé __del__ :"
   ]
  },
  {
   "cell_type": "code",
   "execution_count": null,
   "id": "olive-matrix",
   "metadata": {},
   "outputs": [],
   "source": [
    "del x"
   ]
  },
  {
   "cell_type": "markdown",
   "id": "blank-commercial",
   "metadata": {},
   "source": [
    "### 1.3 Muable et immuable"
   ]
  },
  {
   "cell_type": "markdown",
   "id": "exterior-climb",
   "metadata": {},
   "source": [
    "Il existe deux sortes de types en python : les muables et les immuables.\n",
    "Un objet de type immuable ne peut être modifié."
   ]
  },
  {
   "cell_type": "markdown",
   "id": "accessible-massachusetts",
   "metadata": {},
   "source": [
    "Que se passe-t-il lorsque nous manipulons un objet de type entier qui est un type immuable ?"
   ]
  },
  {
   "cell_type": "code",
   "execution_count": null,
   "id": "quiet-cause",
   "metadata": {},
   "outputs": [],
   "source": [
    "x = 4"
   ]
  },
  {
   "cell_type": "markdown",
   "id": "vietnamese-sugar",
   "metadata": {},
   "source": [
    "Nous pouvons afficher l'identifiant de l'objet référencé par x à l'aide de la fonction built-in *id()*"
   ]
  },
  {
   "cell_type": "code",
   "execution_count": null,
   "id": "dried-butter",
   "metadata": {},
   "outputs": [],
   "source": [
    "id(x)"
   ]
  },
  {
   "cell_type": "code",
   "execution_count": null,
   "id": "modular-passage",
   "metadata": {},
   "outputs": [],
   "source": [
    "x += 6 # Équivalent à x = x + 6"
   ]
  },
  {
   "cell_type": "markdown",
   "id": "drawn-yeast",
   "metadata": {},
   "source": [
    "Puis affichons l'identifiant de l'objet référencé."
   ]
  },
  {
   "cell_type": "code",
   "execution_count": null,
   "id": "solid-thursday",
   "metadata": {},
   "outputs": [],
   "source": [
    "id(x)"
   ]
  },
  {
   "cell_type": "markdown",
   "id": "united-graph",
   "metadata": {},
   "source": [
    "L'entier 4 ne pouvant être modifié, l'interpréteur a créé un nouvel objet entier 10 puis a brisé la référence entre x et 4 pour en créer une nouvelle entre x et 10."
   ]
  },
  {
   "cell_type": "markdown",
   "id": "expressed-corrections",
   "metadata": {},
   "source": [
    "Dans le cas d'une liste qui est un type muable servant de conteneur :"
   ]
  },
  {
   "cell_type": "code",
   "execution_count": 37,
   "id": "critical-darkness",
   "metadata": {},
   "outputs": [
    {
     "name": "stdout",
     "output_type": "stream",
     "text": [
      "[1, 2, 3]\n"
     ]
    }
   ],
   "source": [
    "ma_liste = [1, 2, 3]\n",
    "print(ma_liste)"
   ]
  },
  {
   "cell_type": "code",
   "execution_count": 38,
   "id": "swiss-stations",
   "metadata": {},
   "outputs": [
    {
     "data": {
      "text/plain": [
       "2976741044672"
      ]
     },
     "execution_count": 38,
     "metadata": {},
     "output_type": "execute_result"
    }
   ],
   "source": [
    "id(ma_liste)"
   ]
  },
  {
   "cell_type": "markdown",
   "id": "victorian-rotation",
   "metadata": {},
   "source": [
    "Nous modifions ensuite le deuxième élément de la liste."
   ]
  },
  {
   "cell_type": "code",
   "execution_count": 39,
   "id": "blond-bunch",
   "metadata": {},
   "outputs": [
    {
     "name": "stdout",
     "output_type": "stream",
     "text": [
      "[33, 2, 3]\n"
     ]
    }
   ],
   "source": [
    "ma_liste[0] = 33\n",
    "print(ma_liste)"
   ]
  },
  {
   "cell_type": "code",
   "execution_count": 33,
   "id": "level-sessions",
   "metadata": {},
   "outputs": [
    {
     "data": {
      "text/plain": [
       "2976751597504"
      ]
     },
     "execution_count": 33,
     "metadata": {},
     "output_type": "execute_result"
    }
   ],
   "source": [
    "id(ma_liste)"
   ]
  },
  {
   "cell_type": "markdown",
   "id": "accessory-boxing",
   "metadata": {},
   "source": [
    "Il s'agit bien du même objet liste."
   ]
  },
  {
   "cell_type": "markdown",
   "id": "optimum-christopher",
   "metadata": {},
   "source": [
    "## 2. La syntaxe de python"
   ]
  },
  {
   "cell_type": "markdown",
   "id": "apart-penetration",
   "metadata": {},
   "source": [
    "La convention de codage fait partie de la syntaxe en python. Si vous ne respectez pas la convention de codage, vous aurez une erreur de syntaxe et votre code ne s'exécutera pas."
   ]
  },
  {
   "cell_type": "markdown",
   "id": "adequate-thread",
   "metadata": {},
   "source": [
    "## 2.1 Les commentaires en python"
   ]
  },
  {
   "cell_type": "markdown",
   "id": "fb2dd753",
   "metadata": {},
   "source": [
    "Comme tout langage de programmation, python permet d'écrire des commentaires dans votre code.  \n",
    "Un commentaire s'insère avec le caractère # et se comporte de la même façon qu'un commentaire généré par // en c."
   ]
  },
  {
   "cell_type": "code",
   "execution_count": null,
   "id": "weird-florist",
   "metadata": {},
   "outputs": [],
   "source": [
    "# Création d'un liste contenant les carrés des entiers de 0 à 9\n",
    "ma_liste = [i**2 for i in range(10)] # Nous reviendrons sur cette syntaxe (chapitre II)\n",
    "\n",
    "for nombre in ma_liste:\n",
    "    print(nombre)"
   ]
  },
  {
   "cell_type": "markdown",
   "id": "designed-chain",
   "metadata": {},
   "source": [
    "Une variante consiste à commencer un commentaire avec trois guillemets \"\"\" et à le finir de la même façon.  \n",
    "En apparence, cela correspond à la notation /* \\*/ des commentaires en c/c++."
   ]
  },
  {
   "cell_type": "code",
   "execution_count": null,
   "id": "automated-tension",
   "metadata": {},
   "outputs": [],
   "source": [
    "x = 4\n",
    "y = 5\n",
    "\n",
    "\"\"\"\n",
    "\n",
    "x = 35\n",
    "x += 53\n",
    "x = x / 38\n",
    "\n",
    "\"\"\"\n",
    "\n",
    "x = x * y\n",
    "print(x)"
   ]
  },
  {
   "cell_type": "markdown",
   "id": "upper-slide",
   "metadata": {},
   "source": [
    "Cependant, il ne s'agit pas de commentaires mais d'un texte du programme s'étendant sur plusieurs lignes qui est ignoré lors l'exécution. Cette notation est normalement réservée à la déclaration de la docstring (cf chapitre III)."
   ]
  },
  {
   "cell_type": "markdown",
   "id": "binary-animal",
   "metadata": {},
   "source": [
    "## 2.1 Les instructions"
   ]
  },
  {
   "cell_type": "markdown",
   "id": "removed-posting",
   "metadata": {},
   "source": [
    "En python, un retour à la ligne aussi appelé retour chariot indique la fin d'une instruction."
   ]
  },
  {
   "cell_type": "code",
   "execution_count": null,
   "id": "spare-circus",
   "metadata": {},
   "outputs": [],
   "source": [
    "nombre = 4 # Première instruction\n",
    "nombre = nombre + 5 # Deuxième instruction\n",
    "print(x) # Troisème instruction affichant la valeur de x"
   ]
  },
  {
   "cell_type": "markdown",
   "id": "hazardous-hormone",
   "metadata": {},
   "source": [
    "En python, il est recommandé qu'une ligne ne fasse pas plus de 79 caractères.  \n",
    "Il est donc parfois nécessaire d'écrire une instruction sur plusieurs lignes. Afin de permettre à l'interpréteur de comprendre qu'il s'agit d'une même instruction, vous devez utiliser le caractère \\\\."
   ]
  },
  {
   "cell_type": "code",
   "execution_count": null,
   "id": "southeast-client",
   "metadata": {},
   "outputs": [],
   "source": [
    "une_variable_tres_longue = 4\n",
    "une_deuxieme_variable_tres_longue = 5\n",
    "\n",
    "une_variable_pas_plus_courte = une_variable_tres_longue + une_deuxieme_variable_tres_longue\n",
    "print(une_variable_pas_plus_courte)\n",
    "\n",
    "# Est équivalent à \n",
    "une_variable_pas_plus_courte = une_variable_tres_longue + \\\n",
    "                               une_deuxieme_variable_tres_longue\n",
    "print(une_variable_pas_plus_courte)"
   ]
  },
  {
   "cell_type": "markdown",
   "id": "induced-intervention",
   "metadata": {},
   "source": [
    "Il n'est pas nécessaire d'utiliser le caractère \\ lorsque vous passez à la ligne au sein de parenthèses, accolades ou crochets :"
   ]
  },
  {
   "cell_type": "code",
   "execution_count": null,
   "id": "precise-carter",
   "metadata": {},
   "outputs": [],
   "source": [
    "une_variable_pas_plus_courte =  4 * (une_variable_tres_longue + \n",
    "                                     une_deuxieme_variable_tres_longue)\n",
    "print(une_variable_pas_plus_courte)"
   ]
  },
  {
   "cell_type": "markdown",
   "id": "civil-heading",
   "metadata": {},
   "source": [
    "## 2.2 Les instructions composées et blocs d'instructions"
   ]
  },
  {
   "cell_type": "markdown",
   "id": "involved-contest",
   "metadata": {},
   "source": [
    "Les instructions composées (if, while, for, déclaration de fonction/classe, etc.) sont toujours suivies de deux points."
   ]
  },
  {
   "cell_type": "code",
   "execution_count": null,
   "id": "engaging-gothic",
   "metadata": {},
   "outputs": [],
   "source": [
    "x = 4\n",
    "if x > 0:\n",
    "    print(\"La valeur référencée est positive\")"
   ]
  },
  {
   "cell_type": "markdown",
   "id": "stuffed-restaurant",
   "metadata": {},
   "source": [
    "Un bloc d'instructions est un ensemble d'instructions rattachées à une instruction composée comme les instructions s'exécutant si la condition d'un if est respectée."
   ]
  },
  {
   "cell_type": "markdown",
   "id": "restricted-marble",
   "metadata": {},
   "source": [
    "En c/c++, les blocs d'instructions sont délimités par des accolades, {}.   \n",
    "En python, ces accolades sont remplacées par une indentation de quatre espaces par convention (équivalent souvent à une tabulation)."
   ]
  },
  {
   "cell_type": "markdown",
   "id": "included-gates",
   "metadata": {},
   "source": [
    "Ainsi la syntaxe de c suivante :"
   ]
  },
  {
   "cell_type": "raw",
   "id": "neutral-confidentiality",
   "metadata": {
    "raw_mimetype": "text/latex"
   },
   "source": [
    "int note = 8;\n",
    "\n",
    "if (note >= 10)\n",
    "{\n",
    "    printf(\"Vous êtes reçu !\\n\");\n",
    "    printf(\"Toutes mes félicitations !\\n\");\n",
    "}\n",
    "else\n",
    "    printf(\"Vous êtes recalé !\\n\");"
   ]
  },
  {
   "cell_type": "markdown",
   "id": "occasional-manner",
   "metadata": {},
   "source": [
    "Correspond à la syntaxe de python suivante :"
   ]
  },
  {
   "cell_type": "code",
   "execution_count": null,
   "id": "accepted-dress",
   "metadata": {},
   "outputs": [],
   "source": [
    "note = 8\n",
    "\n",
    "if note > 10:\n",
    "    print('Vous êtes reçu !')\n",
    "    print('Toutes mes félicitations !')\n",
    "else:\n",
    "    print(\"Vous êtes recalé !\")"
   ]
  },
  {
   "cell_type": "markdown",
   "id": "straight-alarm",
   "metadata": {},
   "source": [
    "Cette indentation opère à partir du niveau d'indentation de l'instruction composée.   \n",
    "Ainsi en cas d'instructions composées \"imbriquées\" :"
   ]
  },
  {
   "cell_type": "code",
   "execution_count": null,
   "id": "velvet-warning",
   "metadata": {},
   "outputs": [],
   "source": [
    "note = 19\n",
    "\n",
    "if note >= 10:\n",
    "    print('Vous êtes reçu !')\n",
    "    print('Toutes mes félicitations')\n",
    "    if note > 17:\n",
    "        print('Vous avez obtenu les félicitations du jury !!!') # Indentation à partir du second if\n",
    "else:\n",
    "    print(\"Vous êtes recalé !\")"
   ]
  },
  {
   "cell_type": "markdown",
   "id": "sorted-programmer",
   "metadata": {},
   "source": [
    "# II. Les types natifs"
   ]
  },
  {
   "cell_type": "markdown",
   "id": "valued-technical",
   "metadata": {},
   "source": [
    "Ce chapitre décrit les types standards couramment utilisés intégrés à l'interpréteur.   \n",
    "Les principaux types natifs sont les numériques, les séquences, les dictionnaires, les classes, les instances et les exceptions.  \n",
    "En python, il n'est pas nécessaire de préciser explicitement le type standard utilisé. L'interpréteur le devinera en fonction de la syntaxe utilisée."
   ]
  },
  {
   "cell_type": "markdown",
   "id": "soviet-mixture",
   "metadata": {},
   "source": [
    "## 1. Les types numériques"
   ]
  },
  {
   "cell_type": "markdown",
   "id": "mediterranean-piano",
   "metadata": {},
   "source": [
    "Il existe trois types numériques distincts: int (les booléens sont un sous-type des entiers), float et complex. Tous les types numériques sont immuables. \n",
    "\n",
    "Créons un objet entier de valeur 4 référencé par la variable x"
   ]
  },
  {
   "cell_type": "code",
   "execution_count": null,
   "id": "assumed-payday",
   "metadata": {},
   "outputs": [],
   "source": [
    "x = 4"
   ]
  },
  {
   "cell_type": "markdown",
   "id": "ecological-navigation",
   "metadata": {},
   "source": [
    "Nous pouvons vérifier le type de x à l'aide de la fonction built-in *type()*"
   ]
  },
  {
   "cell_type": "code",
   "execution_count": null,
   "id": "induced-programming",
   "metadata": {},
   "outputs": [],
   "source": [
    "type(x)"
   ]
  },
  {
   "cell_type": "markdown",
   "id": "conventional-portugal",
   "metadata": {},
   "source": [
    "Les flottants s'écrivent à l'aide d'un . pour représenter la partie décimale."
   ]
  },
  {
   "cell_type": "code",
   "execution_count": null,
   "id": "familiar-think",
   "metadata": {},
   "outputs": [],
   "source": [
    "x = 5.76\n",
    "type(x)"
   ]
  },
  {
   "cell_type": "markdown",
   "id": "lovely-background",
   "metadata": {},
   "source": [
    "Les complexes s'écrivent avec 'j' ou 'J' pour représenter la partie imaginaire"
   ]
  },
  {
   "cell_type": "code",
   "execution_count": null,
   "id": "forbidden-cannon",
   "metadata": {},
   "outputs": [],
   "source": [
    "x = 4 + 5J\n",
    "type(x)"
   ]
  },
  {
   "cell_type": "markdown",
   "id": "raised-theory",
   "metadata": {},
   "source": [
    "Vous pouvez ensuite accéder aux parties réelle et imaginaire au moyen des méthodes *real* et *imag*."
   ]
  },
  {
   "cell_type": "code",
   "execution_count": null,
   "id": "essential-jewelry",
   "metadata": {},
   "outputs": [],
   "source": [
    "x.real"
   ]
  },
  {
   "cell_type": "markdown",
   "id": "dense-samuel",
   "metadata": {
    "raw_mimetype": "text/markdown"
   },
   "source": [
    "Les opérations suivantes peuvent être effectuées avec des types numériques:\n",
    "\n",
    "| Opérations    |               Résultats             |\n",
    "|:-------------:|: --------------------------------------:| \n",
    "|  x + y      |    Somme de x et y     |   \n",
    "| x - y       |    Différence de x et y  |  \n",
    "| x * y           |  Produit de x et y |\n",
    "| x / y           |  Division de x par y |\n",
    "| x // y         |  Division entière de x par y |\n",
    "| x % y          |  Modulo de x par y |\n",
    "| x**y ou pow(x, y)|x à la puissance y|\n",
    "| abs(x)           |  valeur absolue de x |\n",
    "|int(x) | convertit x en entier (tronque)|\n",
    "|float(x) |convertit x en float |\n",
    "|complex(x, y) |convertit en un complexe de valeur x + yj |\n",
    "|z.conjugate() |conjugé de z |"
   ]
  },
  {
   "cell_type": "markdown",
   "id": "improving-brain",
   "metadata": {},
   "source": [
    "Il existe en Python toute une famille d’opérateurs dérivés de l’affectation qui permettent de faire en une fois une opération et une affectation.   \n",
    "Ainsi, les instructions suivantes :"
   ]
  },
  {
   "cell_type": "code",
   "execution_count": null,
   "id": "specific-tribute",
   "metadata": {},
   "outputs": [],
   "source": [
    "x = 4\n",
    "x = x + 4\n",
    "print(x)"
   ]
  },
  {
   "cell_type": "markdown",
   "id": "weighted-wages",
   "metadata": {},
   "source": [
    "sont équivalentes à celles-ci :"
   ]
  },
  {
   "cell_type": "code",
   "execution_count": null,
   "id": "physical-claim",
   "metadata": {},
   "outputs": [],
   "source": [
    "x = 4\n",
    "x += 4\n",
    "print(x)"
   ]
  },
  {
   "cell_type": "markdown",
   "id": "ruled-missouri",
   "metadata": {},
   "source": [
    "Cela fonctionne avec les symboles : +, -, \\*, /, //, \\**, % "
   ]
  },
  {
   "cell_type": "code",
   "execution_count": null,
   "id": "addressed-database",
   "metadata": {},
   "outputs": [],
   "source": [
    "x = 4\n",
    "x **= 2\n",
    "print(x)\n",
    "x %= 3\n",
    "print(x)"
   ]
  },
  {
   "cell_type": "markdown",
   "id": "advance-shaft",
   "metadata": {},
   "source": [
    "## 2. Les valeurs booléennes"
   ]
  },
  {
   "cell_type": "markdown",
   "id": "f94de9ca",
   "metadata": {},
   "source": [
    "Tout objet peut être comparé à une valeur booléenne comme lors d'un test de condition dans un if ou un while.  \n",
    "Par défaut, tout objet est considéré vrai à l'exception :\n",
    "- Des constantes valant False ou None\n",
    "- Des zéros de tout type numérique\n",
    "- Des séquences vides : \"\", [], {}, (), etc."
   ]
  },
  {
   "cell_type": "markdown",
   "id": "reverse-methodology",
   "metadata": {},
   "source": [
    "Les opérations booléennes classées par priorités ascendantes :\n",
    "\n",
    "| Opérateurs    |               Résultat                  |\n",
    "|:-------------:|: --------------------------------------:| \n",
    "| x or y        |    si x est faux, alors y, sinon x      |   \n",
    "| x and y       |        si x est faux, alors x, sinon y  |  \n",
    "| not           |  si x est faux, alors True, sinon False | "
   ]
  },
  {
   "cell_type": "markdown",
   "id": "d5568b38",
   "metadata": {},
   "source": [
    "Il existe huit opérateurs de comparaison dont la priorité est supérieure à celle des opérations booléennes:\n",
    "\n",
    "| Opérateurs    |               Signification             |\n",
    "|:-------------:|: --------------------------------------:| \n",
    "|  <      |    inférieur     |   \n",
    "| <=       |        inférieur ou égal  |  \n",
    "| >           |  supérieur |\n",
    "| >=           |  supérieur ou égal |\n",
    "| ==         |  égal |\n",
    "| !=           |  différent |\n",
    "| is           |  identité d'objet |\n",
    "| is not       |  contraire de l'identité d'objet |"
   ]
  },
  {
   "cell_type": "markdown",
   "id": "foster-territory",
   "metadata": {},
   "source": [
    "## 3. Les séquences"
   ]
  },
  {
   "cell_type": "markdown",
   "id": "champion-wiring",
   "metadata": {},
   "source": [
    "Les séquences sont des conteneurs sur lesquels il est possible d'itérer. Nous reviendrons avec des exemples sur ce principe.\n",
    "\n",
    "Toutes les séquences décrites dans cette section partagent les opérations suivantes :\n",
    "\n",
    "| Opérations    |               Résultats             |\n",
    "|:-------------:|: --------------------------------------:| \n",
    "|  x in s      |    Renvoie True si un élément de s est égal à x, sinon False     |\n",
    "|  x not in s      |    Renvoie False si un élément de s est égal à x, sinon True     | \n",
    "| s + t       |    Concatène s et t |  \n",
    "| s * n           |  Ajoute s n fois à lui même |\n",
    "| s[i]          |  Élément i de s|\n",
    "| s[i:j]       |  Tranche de s de i à j |\n",
    "| s[i:j:k]         |  Tranche de s de i à j par pas de k|\n",
    "| len(s) | Longeur de s|\n",
    "| min(s)           |  Plus petite valeur de s |\n",
    "| max(s) | Plus grande valeur de s|\n",
    "| s.count(x) |Nombre d'occurences de x dans s |\n",
    "\n",
    "De plus, les séquences muables peuvent effectuer les opérations suivantes\n",
    "\n",
    "| Opérations    |               Résultats             |\n",
    "|:-------------:|: --------------------------------------:| \n",
    "|  s[i] = x     |    L'élément i de s est remplacé par x    |\n",
    "|  s[i:j] = t      |    La tranche de i à j de s est remplacée par l'itérable t | \n",
    "| del s[i:j]      |    Supprime la tranche de i à j de s |  \n",
    "| s.append(x)          | Ajoute x à la fin de s |\n",
    "| s.clear()          |  Supprime les éléments de s (identique à del s[:]|\n",
    "| s.copy()      |  Génère une copie superficielle de s |\n",
    "| s += t ou s.extend(t)         |  Étend s avec t |\n",
    "| s.insert(i, x)| Insère x dans s à l'index i |\n",
    "| s.remove(x)          |  Supprime le premier élément de s valant x |\n",
    "| s.pop([i]) | Retourne et supprime l'élément à l'index i|\n",
    "| s.reverse() | Inverse les éléments de s |\n",
    "\n",
    "\n",
    "Des exemples de ces opérations seront dispensés dans le reste de cette section.\n"
   ]
  },
  {
   "cell_type": "markdown",
   "id": "charged-kuwait",
   "metadata": {},
   "source": [
    "### 3.1 Les listes"
   ]
  },
  {
   "cell_type": "markdown",
   "id": "foster-sleeping",
   "metadata": {},
   "source": [
    "Les listes sont des séquences muables utilisées pour stocker des collections d'éléments homogènes ou hétérogènes.\n",
    "Une liste peut être créée à l'aide de crochets où les éléments sont séparés par une virgule ou bien au moyen du constructeur du type."
   ]
  },
  {
   "cell_type": "markdown",
   "id": "casual-sharing",
   "metadata": {},
   "source": [
    "Création d'une liste de quatre éléments 1,2,3,4 que nous afficherons ensuite à l'aide de la fonction built-in print"
   ]
  },
  {
   "cell_type": "code",
   "execution_count": 1,
   "id": "handy-image",
   "metadata": {},
   "outputs": [
    {
     "name": "stdout",
     "output_type": "stream",
     "text": [
      "[1, 2, 3, 4]\n"
     ]
    }
   ],
   "source": [
    "x = [1, 2, 3, 4]\n",
    "print(x)"
   ]
  },
  {
   "cell_type": "markdown",
   "id": "impressive-juvenile",
   "metadata": {},
   "source": [
    "La même avec le constructeur"
   ]
  },
  {
   "cell_type": "code",
   "execution_count": 2,
   "id": "imperial-staff",
   "metadata": {},
   "outputs": [
    {
     "name": "stdout",
     "output_type": "stream",
     "text": [
      "[1, 2, 3, 4]\n"
     ]
    }
   ],
   "source": [
    "x = list((1, 2, 3, 4))\n",
    "print(x)"
   ]
  },
  {
   "cell_type": "markdown",
   "id": "reserved-gazette",
   "metadata": {},
   "source": [
    "Il est possible de mélanger les types au sein d'une liste bien que cela soit rarement utile."
   ]
  },
  {
   "cell_type": "code",
   "execution_count": 3,
   "id": "dying-enhancement",
   "metadata": {},
   "outputs": [
    {
     "name": "stdout",
     "output_type": "stream",
     "text": [
      "[4, 'BoB', 4.56, 8]\n"
     ]
    }
   ],
   "source": [
    "x = [4, \"BoB\", 4.56, 8]\n",
    "print(x)"
   ]
  },
  {
   "cell_type": "markdown",
   "id": "increased-quantum",
   "metadata": {},
   "source": [
    "Mais aussi d'inclure des listes dans une liste."
   ]
  },
  {
   "cell_type": "code",
   "execution_count": null,
   "id": "stupid-parish",
   "metadata": {},
   "outputs": [],
   "source": [
    "x = [x, 45, [7, 89]]\n",
    "print(x)"
   ]
  },
  {
   "cell_type": "markdown",
   "id": "choice-journalist",
   "metadata": {},
   "source": [
    "Une façon rapide et efficace de créer ces listes consiste à utiliser une compréhension dont la syntaxe de base est [x for x in mon_iterable].\n",
    "Soit une séquence d'entier de 0 à 9:"
   ]
  },
  {
   "cell_type": "code",
   "execution_count": null,
   "id": "alert-boring",
   "metadata": {},
   "outputs": [],
   "source": [
    "seq = [0, 1, 2, 3, 4, 5, 6, 7, 8, 9]"
   ]
  },
  {
   "cell_type": "markdown",
   "id": "catholic-number",
   "metadata": {},
   "source": [
    "Vous pouvez aisément créer une liste contenant le carré de cette séquence"
   ]
  },
  {
   "cell_type": "code",
   "execution_count": null,
   "id": "loaded-newfoundland",
   "metadata": {},
   "outputs": [],
   "source": [
    "carre = [i**2 for i in seq]\n",
    "print(carre)"
   ]
  },
  {
   "cell_type": "markdown",
   "id": "color-building",
   "metadata": {},
   "source": [
    "Les compréhensions se définissent très souvent à l'aide des séquences du type range que nous verrons un peu plus tard."
   ]
  },
  {
   "cell_type": "markdown",
   "id": "healthy-prairie",
   "metadata": {},
   "source": [
    "Quelques manipulations pour vous aider à comprendre les différentes opérations :"
   ]
  },
  {
   "cell_type": "code",
   "execution_count": null,
   "id": "seeing-problem",
   "metadata": {},
   "outputs": [],
   "source": [
    "carre.append(100) # ajout d'un élément de valeur 100 à la fin de la liste\n",
    "print(carre)\n",
    "carre[3] = - 13 # Modification de l'élément à l'index 3 donc du quatrième élément comme en c!!\n",
    "print(carre)\n",
    "carre.remove(-13) # Retire la première occurence de -13\n",
    "print(carre)\n",
    "carre.insert(3, 9) # insère l'élément 9 à l'index 3\n",
    "print(carre)\n",
    "slice_carre = carre[4:] # Crée une tranche de carre commençant à l'index 4\n",
    "print(slice_carre)"
   ]
  },
  {
   "cell_type": "markdown",
   "id": "removable-statement",
   "metadata": {},
   "source": [
    "### 3.2 Les tuples"
   ]
  },
  {
   "cell_type": "markdown",
   "id": "sought-costs",
   "metadata": {},
   "source": [
    "Les tuples sont des séquences immuables, généralement utilisées pour stocker des collections de données hétérogènes.  \n",
    "Ils sont définis par des () et peuvent être générés de la même façon que les listes."
   ]
  },
  {
   "cell_type": "code",
   "execution_count": 4,
   "id": "further-viewer",
   "metadata": {},
   "outputs": [
    {
     "name": "stdout",
     "output_type": "stream",
     "text": [
      "(1, 2, 3) ('a', 'b', 'c')\n"
     ]
    }
   ],
   "source": [
    "x = (1, 2, 3)\n",
    "y = tuple(('abc'))\n",
    "print(x, y)"
   ]
  },
  {
   "cell_type": "markdown",
   "id": "prerequisite-projection",
   "metadata": {},
   "source": [
    "Un tuple étant immuable, il est impossible de le modifier. L'opération suivante renvoie donc une erreur."
   ]
  },
  {
   "cell_type": "code",
   "execution_count": 5,
   "id": "aquatic-graphic",
   "metadata": {},
   "outputs": [
    {
     "ename": "TypeError",
     "evalue": "'tuple' object does not support item assignment",
     "output_type": "error",
     "traceback": [
      "\u001b[1;31m---------------------------------------------------------------------------\u001b[0m",
      "\u001b[1;31mTypeError\u001b[0m                                 Traceback (most recent call last)",
      "\u001b[1;32m~\\AppData\\Local\\Temp\\ipykernel_14600\\874835878.py\u001b[0m in \u001b[0;36m<module>\u001b[1;34m\u001b[0m\n\u001b[1;32m----> 1\u001b[1;33m \u001b[0mx\u001b[0m\u001b[1;33m[\u001b[0m\u001b[1;36m1\u001b[0m\u001b[1;33m]\u001b[0m \u001b[1;33m=\u001b[0m \u001b[1;36m45\u001b[0m\u001b[1;33m\u001b[0m\u001b[1;33m\u001b[0m\u001b[0m\n\u001b[0m",
      "\u001b[1;31mTypeError\u001b[0m: 'tuple' object does not support item assignment"
     ]
    }
   ],
   "source": [
    "x[1] = 45"
   ]
  },
  {
   "cell_type": "markdown",
   "id": "immediate-japan",
   "metadata": {},
   "source": [
    "### 3.3 Les séquences de type range"
   ]
  },
  {
   "cell_type": "markdown",
   "id": "hearing-flour",
   "metadata": {},
   "source": [
    "Le type range représente une séquence immuable de nombres et est couramment utilisé comme itérable dans les boucles for ou dans les compréhensions.  \n",
    "Une séquence de type range s'écrit de la façon suivante range(start, stop, step). Start et step peuvent ne pas être fournis dans ce cas, ils valent respectivement 0 et 1."
   ]
  },
  {
   "cell_type": "code",
   "execution_count": 6,
   "id": "frequent-circulation",
   "metadata": {},
   "outputs": [
    {
     "name": "stdout",
     "output_type": "stream",
     "text": [
      "range(0, 10)\n",
      "range(12, 252, 3)\n"
     ]
    }
   ],
   "source": [
    "x = range(10)\n",
    "y = range(12, 252, 3)\n",
    "print(x)\n",
    "print(y)"
   ]
  },
  {
   "cell_type": "markdown",
   "id": "cognitive-hungary",
   "metadata": {},
   "source": [
    "Comme vous pouvez le constater, un range ne stocke que les valeurs start, stop et step (si step différent de 1)."
   ]
  },
  {
   "cell_type": "code",
   "execution_count": 7,
   "id": "arranged-structure",
   "metadata": {},
   "outputs": [
    {
     "data": {
      "text/plain": [
       "True"
      ]
     },
     "execution_count": 7,
     "metadata": {},
     "output_type": "execute_result"
    }
   ],
   "source": [
    "4 in x "
   ]
  },
  {
   "cell_type": "markdown",
   "id": "african-luxury",
   "metadata": {},
   "source": [
    "La compréhension précédente pouvait s'écrire sans la liste séquence à l'aide d'un range."
   ]
  },
  {
   "cell_type": "code",
   "execution_count": 8,
   "id": "handed-exposure",
   "metadata": {},
   "outputs": [
    {
     "name": "stdout",
     "output_type": "stream",
     "text": [
      "[0, 1, 4, 9, 16, 25, 36, 49, 64, 81]\n"
     ]
    }
   ],
   "source": [
    "carre = [i**2 for i in range(10)]\n",
    "print(carre)"
   ]
  },
  {
   "cell_type": "markdown",
   "id": "anonymous-enclosure",
   "metadata": {},
   "source": [
    "L'avantage du type range sur une liste ou un tuple est qu'un objet range prendra toujours la même (petite) quantité de mémoire, peu importe la taille de la gamme qu'elle représente."
   ]
  },
  {
   "cell_type": "markdown",
   "id": "partial-omaha",
   "metadata": {},
   "source": [
    "### 3.4 Les strings ou séquences de caractères"
   ]
  },
  {
   "cell_type": "markdown",
   "id": "wicked-presentation",
   "metadata": {},
   "source": [
    "Les strings sont des séquences immuables de points de code Unicode.   \n",
    "Les chaînes littérales peuvent être écrites de différentes manières :\n",
    "- Les guillemets simples : 'autorisent les \"guillemets\"'\n",
    "- Les guillemets : \"autorisent les guillemets 'simples'\".\n",
    "- Guillemets triples : '''Trois guillemets simples''', \"\"\"Trois guillemets\"\"\""
   ]
  },
  {
   "cell_type": "code",
   "execution_count": 9,
   "id": "preliminary-explosion",
   "metadata": {},
   "outputs": [
    {
     "name": "stdout",
     "output_type": "stream",
     "text": [
      "je sUIs uNe chAine De cAracTères\n"
     ]
    }
   ],
   "source": [
    "chaine = \"je sUIs uNe chAine De cAracTères\"\n",
    "print(chaine)"
   ]
  },
  {
   "cell_type": "markdown",
   "id": "falling-favor",
   "metadata": {},
   "source": [
    "De très nombreuses méthodes existent pour manipuler les strings (en plus de celles communes aux séquences).   \n",
    "Par exemple, la méthode *capitalize()* retourne la chaîne avec une majuscule en début de chaîne et le reste en minuscule. Vous pouvez consulter l'ensemble des méthodes disponibles dans la documentation python."
   ]
  },
  {
   "cell_type": "code",
   "execution_count": 10,
   "id": "comprehensive-plasma",
   "metadata": {},
   "outputs": [
    {
     "name": "stdout",
     "output_type": "stream",
     "text": [
      "Je suis une chaine de caractères\n"
     ]
    }
   ],
   "source": [
    "chaine = chaine.capitalize()\n",
    "print(chaine)"
   ]
  },
  {
   "cell_type": "markdown",
   "id": "beautiful-notice",
   "metadata": {},
   "source": [
    "La fonction *str* revoie une représentation string de l'objet."
   ]
  },
  {
   "cell_type": "code",
   "execution_count": null,
   "id": "tired-bandwidth",
   "metadata": {},
   "outputs": [],
   "source": [
    "str([1, 2, 3])"
   ]
  },
  {
   "cell_type": "markdown",
   "id": "executed-train",
   "metadata": {},
   "source": [
    "Python permet de concatener très facilement des chaînes de caractères."
   ]
  },
  {
   "cell_type": "code",
   "execution_count": 11,
   "id": "enhanced-grammar",
   "metadata": {},
   "outputs": [
    {
     "name": "stdout",
     "output_type": "stream",
     "text": [
      "Hello World\n"
     ]
    }
   ],
   "source": [
    "x = \"Hello\"\n",
    "y = \" World\"\n",
    "chaine = x + y\n",
    "print(chaine)"
   ]
  },
  {
   "cell_type": "markdown",
   "id": "cathedral-token",
   "metadata": {},
   "source": [
    "Il est souvent nécessaire d'afficher des strings avec d'autres types.\n",
    "Un exemple avec la fonction print."
   ]
  },
  {
   "cell_type": "code",
   "execution_count": null,
   "id": "expected-circuit",
   "metadata": {},
   "outputs": [],
   "source": [
    "age = 40\n",
    "print(\"Il a \" + str(age) + \" ans\")"
   ]
  },
  {
   "cell_type": "markdown",
   "id": "velvet-complexity",
   "metadata": {},
   "source": [
    "Une autre notation :"
   ]
  },
  {
   "cell_type": "code",
   "execution_count": null,
   "id": "opening-surgeon",
   "metadata": {},
   "outputs": [],
   "source": [
    "print(\"Il a \", age, \" ans\")"
   ]
  },
  {
   "cell_type": "markdown",
   "id": "static-standard",
   "metadata": {},
   "source": [
    "Pour faciliter ces inclusions, python propose les f-strings qui augmentent considérablement la lisibilité du code. Les valeurs devant être converties sont entourées {} et un f devance les guillements."
   ]
  },
  {
   "cell_type": "code",
   "execution_count": null,
   "id": "adult-bargain",
   "metadata": {},
   "outputs": [],
   "source": [
    "print(f\"Il a {age} ans\")"
   ]
  },
  {
   "cell_type": "markdown",
   "id": "competitive-novel",
   "metadata": {},
   "source": [
    "## Les dictionnaires"
   ]
  },
  {
   "cell_type": "markdown",
   "id": "settled-punch",
   "metadata": {},
   "source": [
    "Un dictionnaire est un objet muable faisant correspondre des valeurs appelées clés à des objets arbitraires.\n",
    "\n",
    "Les clefs d'un dictionnaire sont presque des données arbitraires. Les types qui ne sont pas hashables, c'est-à-dire qui contiennent les listes, des dictionnaires ou d'autres types muables ne peuvent pas être utilisées comme clef de dictionnaire.\n",
    "\n",
    "Plusieurs syntaxes existent pour générer des dictionnaires :\n",
    "- À l'aide d'accolades et de virgules { 'Bob' : 15, 'Patrick' : 23}\n",
    "- Par compréhension : {x: x ** 2 for x in range(10)}\n",
    "- Via le constructeur : dict([('Bob', 15), ('Patrick', 23)])"
   ]
  },
  {
   "cell_type": "code",
   "execution_count": 42,
   "id": "helpful-joseph",
   "metadata": {},
   "outputs": [
    {
     "name": "stdout",
     "output_type": "stream",
     "text": [
      "{'Nom': 'Elon', 'Prenom': 'Musk', 'Age': 15}\n"
     ]
    }
   ],
   "source": [
    "tesla = {'Nom' : \"Elon\", 'Prenom' : \"Musk\", 'Age' : 15}\n",
    "print(tesla)"
   ]
  },
  {
   "cell_type": "markdown",
   "id": "focused-spokesman",
   "metadata": {},
   "source": [
    "Vous pouvez accéder aux valeurs stockées par l'intermédiaire des clés."
   ]
  },
  {
   "cell_type": "code",
   "execution_count": null,
   "id": "limited-racing",
   "metadata": {},
   "outputs": [],
   "source": [
    "tesla['Age']"
   ]
  },
  {
   "cell_type": "markdown",
   "id": "focal-xerox",
   "metadata": {},
   "source": [
    "Il est possible d'ajouter une clé à un dictionnaire.  \n",
    "Par exemple, ajout de la clé 'Fonction' avec la valeur \"DG\" :"
   ]
  },
  {
   "cell_type": "code",
   "execution_count": null,
   "id": "western-mystery",
   "metadata": {},
   "outputs": [],
   "source": [
    "tesla['Fonction'] = \"DG\""
   ]
  },
  {
   "cell_type": "markdown",
   "id": "breathing-sound",
   "metadata": {},
   "source": [
    "Si la clé existe déjà, cette opération modifiera l'attribut correspondant."
   ]
  },
  {
   "cell_type": "code",
   "execution_count": 43,
   "id": "isolated-wichita",
   "metadata": {},
   "outputs": [
    {
     "name": "stdout",
     "output_type": "stream",
     "text": [
      "{'Nom': 'Elon', 'Prenom': 'Musk', 'Age': 49}\n"
     ]
    }
   ],
   "source": [
    "tesla['Age'] = 49\n",
    "print(tesla)"
   ]
  },
  {
   "cell_type": "markdown",
   "id": "favorite-bahrain",
   "metadata": {},
   "source": [
    "Vous pouvez retourner la liste de clés"
   ]
  },
  {
   "cell_type": "code",
   "execution_count": 41,
   "id": "fleet-windsor",
   "metadata": {},
   "outputs": [
    {
     "ename": "NameError",
     "evalue": "name 'tesla' is not defined",
     "output_type": "error",
     "traceback": [
      "\u001b[1;31m---------------------------------------------------------------------------\u001b[0m",
      "\u001b[1;31mNameError\u001b[0m                                 Traceback (most recent call last)",
      "\u001b[1;32m~\\AppData\\Local\\Temp\\ipykernel_14600\\736688951.py\u001b[0m in \u001b[0;36m<module>\u001b[1;34m\u001b[0m\n\u001b[1;32m----> 1\u001b[1;33m \u001b[0mlist\u001b[0m\u001b[1;33m(\u001b[0m\u001b[0mtesla\u001b[0m\u001b[1;33m)\u001b[0m\u001b[1;33m\u001b[0m\u001b[1;33m\u001b[0m\u001b[0m\n\u001b[0m",
      "\u001b[1;31mNameError\u001b[0m: name 'tesla' is not defined"
     ]
    }
   ],
   "source": [
    "list(tesla)"
   ]
  },
  {
   "cell_type": "markdown",
   "id": "cathedral-sunglasses",
   "metadata": {},
   "source": [
    "Chercher si une clé existe dans un dictionnaire"
   ]
  },
  {
   "cell_type": "code",
   "execution_count": 40,
   "id": "portuguese-confidence",
   "metadata": {},
   "outputs": [
    {
     "ename": "NameError",
     "evalue": "name 'tesla' is not defined",
     "output_type": "error",
     "traceback": [
      "\u001b[1;31m---------------------------------------------------------------------------\u001b[0m",
      "\u001b[1;31mNameError\u001b[0m                                 Traceback (most recent call last)",
      "\u001b[1;32m~\\AppData\\Local\\Temp\\ipykernel_14600\\2930165416.py\u001b[0m in \u001b[0;36m<module>\u001b[1;34m\u001b[0m\n\u001b[1;32m----> 1\u001b[1;33m \u001b[1;34m'Nom'\u001b[0m \u001b[1;32min\u001b[0m \u001b[0mtesla\u001b[0m\u001b[1;33m\u001b[0m\u001b[1;33m\u001b[0m\u001b[0m\n\u001b[0m",
      "\u001b[1;31mNameError\u001b[0m: name 'tesla' is not defined"
     ]
    }
   ],
   "source": [
    "'Nom' in tesla"
   ]
  },
  {
   "cell_type": "markdown",
   "id": "innocent-probe",
   "metadata": {},
   "source": [
    "Pour plus d'informations concernant les méthodes des dictionnaires, je vous renvoie à la documentation officielle."
   ]
  },
  {
   "cell_type": "markdown",
   "id": "representative-friday",
   "metadata": {},
   "source": [
    "# Instructions composées"
   ]
  },
  {
   "cell_type": "markdown",
   "id": "logical-report",
   "metadata": {},
   "source": [
    "Les instructions composées contiennent d'autres d'instructions. Elles affectent ou contrôlent l'exécution de ces autres instructions d'une manière ou d'une autre. Nous verrons dans ce cours les instructions de contrôle classique __if__, __while__ et __for__. "
   ]
  },
  {
   "cell_type": "markdown",
   "id": "active-drill",
   "metadata": {},
   "source": [
    "Une instruction composée comporte une ou plusieurs « clauses ». Une clause se compose d'un en-tête et d'une « suite ». Les en-têtes des clauses d'une instruction composée particulière sont toutes placées au même niveau d'indentation. Chaque en-tête de clause commence par un mot-clé spécifique et se termine par le caractère deux-points __:__ . Une suite est un groupe d'instructions contrôlées par une clause."
   ]
  },
  {
   "cell_type": "markdown",
   "id": "applied-level",
   "metadata": {},
   "source": [
    "## L'instruction if"
   ]
  },
  {
   "cell_type": "markdown",
   "id": "victorian-airport",
   "metadata": {},
   "source": [
    "L'instruction __if__ sert à exécuter des instructions si une condition est respectée."
   ]
  },
  {
   "cell_type": "code",
   "execution_count": null,
   "id": "employed-thanks",
   "metadata": {},
   "outputs": [],
   "source": [
    "x = 4\n",
    "if x > 0:\n",
    "    print(\"La condition est respectée\")"
   ]
  },
  {
   "cell_type": "markdown",
   "id": "secure-millennium",
   "metadata": {},
   "source": [
    "Cette instruction peut être utilisée dans une compréhension.   \n",
    "Générons une liste contenant tous les entiers divisibles par 7 compris entre 0 et 100."
   ]
  },
  {
   "cell_type": "code",
   "execution_count": null,
   "id": "prime-archives",
   "metadata": {},
   "outputs": [],
   "source": [
    "divisible = [i for i in range(100) if i % 7 == 0]\n",
    "print(divisible)"
   ]
  },
  {
   "cell_type": "markdown",
   "id": "employed-grade",
   "metadata": {},
   "source": [
    "Vous pouvez exécuter des instructions si la condition n'est pas respectée avec le mot clé __else__ suivie __:__ ."
   ]
  },
  {
   "cell_type": "code",
   "execution_count": 12,
   "id": "declared-hormone",
   "metadata": {},
   "outputs": [
    {
     "name": "stdout",
     "output_type": "stream",
     "text": [
      "La condition n'est pas respectée\n"
     ]
    }
   ],
   "source": [
    "x = - 25\n",
    "if x > 0:\n",
    "    print(\"La condition est respectée\")\n",
    "else:\n",
    "    print(\"La condition n'est pas respectée\")"
   ]
  },
  {
   "cell_type": "markdown",
   "id": "infrared-access",
   "metadata": {},
   "source": [
    "De plus, il est possible d'exécuter des instructions si les conditions préalables ne sont pas respectées, mais seulement dans le cas où une autre condition est respectée avec le mot clé __elif__, comme dans l'exemple suivant :"
   ]
  },
  {
   "cell_type": "code",
   "execution_count": 13,
   "id": "prerequisite-patio",
   "metadata": {},
   "outputs": [
    {
     "name": "stdout",
     "output_type": "stream",
     "text": [
      "La seconde condition est respectée\n"
     ]
    }
   ],
   "source": [
    "x = - 25\n",
    "if x > 0:\n",
    "    print(\"La condition est respectée\")\n",
    "elif x == -25:\n",
    "    print(\"La seconde condition est respectée\")\n",
    "else:\n",
    "    print(\"La condition n'est pas respectée\")"
   ]
  },
  {
   "cell_type": "markdown",
   "id": "cognitive-roommate",
   "metadata": {},
   "source": [
    "## L'instruction while"
   ]
  },
  {
   "cell_type": "markdown",
   "id": "desirable-version",
   "metadata": {},
   "source": [
    "L'instruction composée while exécute des instructions de manière répétée tant qu'une expression est vérifiée."
   ]
  },
  {
   "cell_type": "code",
   "execution_count": 14,
   "id": "substantial-rolling",
   "metadata": {},
   "outputs": [
    {
     "name": "stdout",
     "output_type": "stream",
     "text": [
      "[1, 2, 4, 8, 16, 32, 64, 128, 256, 512]\n"
     ]
    }
   ],
   "source": [
    "x = []\n",
    "while len(x) < 10:\n",
    "    x += [sum(x) + 1]\n",
    "print(x)"
   ]
  },
  {
   "cell_type": "markdown",
   "id": "sapphire-grammar",
   "metadata": {},
   "source": [
    "Vous pouvez forcer une sortie de boucle au moyen du mot clé __break__."
   ]
  },
  {
   "cell_type": "code",
   "execution_count": null,
   "id": "careful-director",
   "metadata": {},
   "outputs": [],
   "source": [
    "x = 1\n",
    "while True:\n",
    "    x = x + 2\n",
    "    if x > 150:\n",
    "        break;\n",
    "print(x)"
   ]
  },
  {
   "cell_type": "markdown",
   "id": "iraqi-conclusion",
   "metadata": {},
   "source": [
    "De même, il est possible de sauter une partie des instructions à l'aide du mot clé __continue__.   \n",
    "Créons une liste vide puis étendons la 10 fois en ajoutant un élément d'une valeur comprise entre 0 et 10 (exclu) déterminée aléatoirement à l'aide du module random. Nous afficherons la liste après chaque ajout impair.\n",
    "Nous reviendrons plus tard sur l'utilisation des modules."
   ]
  },
  {
   "cell_type": "code",
   "execution_count": null,
   "id": "satisfied-penguin",
   "metadata": {},
   "outputs": [],
   "source": [
    "import random\n",
    "\n",
    "x = []\n",
    "while len(x) < 10:\n",
    "    # Ajout d'un élément compris entre 0 et 10 (exclu) et déterminé aléatoirement\n",
    "    x += [random.randrange(0,10)]\n",
    "    # Il est possible d'utiliser un index négatif pour parcourir une séquence dans l'autre sens\n",
    "    # l'élément à la position -1 correspond au dernier élément de la liste\n",
    "    if x[-1] % 2 != 0:\n",
    "        continue\n",
    "    print(x)"
   ]
  },
  {
   "cell_type": "markdown",
   "id": "broad-mercury",
   "metadata": {},
   "source": [
    "## L'instruction for"
   ]
  },
  {
   "cell_type": "markdown",
   "id": "sound-worthy",
   "metadata": {},
   "source": [
    "L'instruction for est utilisée pour itérer sur les éléments d'une séquence ou de tout objet itérable."
   ]
  },
  {
   "cell_type": "code",
   "execution_count": 15,
   "id": "guilty-kazakhstan",
   "metadata": {},
   "outputs": [
    {
     "name": "stdout",
     "output_type": "stream",
     "text": [
      "John\n",
      "Roger\n",
      "Robert\n",
      "Achille\n",
      "NoName\n"
     ]
    }
   ],
   "source": [
    "x = [\"John\", \"Roger\", \"Robert\", \"Achille\", \"NoName\"]\n",
    "for i in x:\n",
    "    print(i)"
   ]
  },
  {
   "cell_type": "code",
   "execution_count": 20,
   "id": "6605e2f3",
   "metadata": {},
   "outputs": [
    {
     "name": "stdout",
     "output_type": "stream",
     "text": [
      "debut iteration 0\n",
      "bonjour\n",
      "debut iteration 1\n",
      "bonjour\n",
      "debut iteration 2\n",
      "bonjour\n",
      "fin iteration 2\n",
      "debut iteration 3\n",
      "bonjour\n",
      "fin iteration 3\n"
     ]
    }
   ],
   "source": [
    "for i in range(4):\n",
    "    print(\"debut iteration\", i)\n",
    "    print(\"bonjour\")\n",
    "    if i < 2:\n",
    "        continue\n",
    "    print(\"fin iteration\", i)"
   ]
  },
  {
   "cell_type": "markdown",
   "id": "sonic-stand",
   "metadata": {},
   "source": [
    "Les séquences __range__ sont couramment utilisées avec les instructions for."
   ]
  },
  {
   "cell_type": "code",
   "execution_count": null,
   "id": "approved-southeast",
   "metadata": {},
   "outputs": [],
   "source": [
    "for i in range(10):\n",
    "    print(f\"{i**2} est le carre de {i}\")"
   ]
  },
  {
   "cell_type": "markdown",
   "id": "preliminary-scholarship",
   "metadata": {},
   "source": [
    "Notamment lors de la construction de compréhensions.\n",
    "La liste des carrés divisibles par 3 entre 25 et 2500 par pas de 13"
   ]
  },
  {
   "cell_type": "code",
   "execution_count": null,
   "id": "polar-writing",
   "metadata": {},
   "outputs": [],
   "source": [
    "x = [i for i in range(25, 2500, 13) if i**2 % 3 == 0]\n",
    "print(x)"
   ]
  },
  {
   "cell_type": "markdown",
   "id": "attractive-tucson",
   "metadata": {},
   "source": [
    "Vous pouvez itérerer sur plusieurs valeurs.\n",
    "Essayez de bien comprendre la différence entre ces deux boucles."
   ]
  },
  {
   "cell_type": "code",
   "execution_count": null,
   "id": "detected-freight",
   "metadata": {},
   "outputs": [],
   "source": [
    "x = [[i, i**2] for i in range(10)]\n",
    "\n",
    "print(\"Boucle n° 1 :\")\n",
    "for i in x:\n",
    "    print(i)\n",
    "\n",
    "print(\"Boucle n° 2 :\")\n",
    "for i, j in x:\n",
    "    print(i, j)"
   ]
  },
  {
   "cell_type": "markdown",
   "id": "detailed-liver",
   "metadata": {},
   "source": [
    "Lorsque vous itérez sur une séquence, la position et la valeur correspondante peuvent être récupérées en même temps en utilisant la fonction built-in *enumerate()*."
   ]
  },
  {
   "cell_type": "code",
   "execution_count": 21,
   "id": "opened-nudist",
   "metadata": {},
   "outputs": [
    {
     "name": "stdout",
     "output_type": "stream",
     "text": [
      "(0, 'John')\n",
      "(1, 'Roger')\n",
      "(2, 'Robert')\n",
      "(3, 'Achille')\n",
      "(4, 'NoName')\n"
     ]
    }
   ],
   "source": [
    "x = [\"John\", \"Roger\", \"Robert\", \"Achille\", \"NoName\"]\n",
    "\n",
    "for i in enumerate(x):\n",
    "    print(i)"
   ]
  },
  {
   "cell_type": "markdown",
   "id": "short-daniel",
   "metadata": {},
   "source": [
    "La fonction *enumerate()* retourne des tuples que vous pouvez manipuler avec deux variables comme vu précédement."
   ]
  },
  {
   "cell_type": "code",
   "execution_count": null,
   "id": "selected-humanitarian",
   "metadata": {},
   "outputs": [],
   "source": [
    "x = [\"John\", \"Roger\", \"Robert\", \"Achille\", \"NoName\"]\n",
    "\n",
    "for index, valeur in enumerate(x):\n",
    "    print(f\" Le nom {valeur} se situe en position {index}\")"
   ]
  },
  {
   "cell_type": "markdown",
   "id": "registered-execution",
   "metadata": {},
   "source": [
    "la fonction built-in *zip()* permet d'agréger des itérables.  \n",
    "Cette fonction retourne un itérable de tuples où le ième tuple est composé des ième éléments de chaque itérable."
   ]
  },
  {
   "cell_type": "code",
   "execution_count": null,
   "id": "hazardous-bread",
   "metadata": {},
   "outputs": [],
   "source": [
    "x = [i * 2 for i in range(10)]\n",
    "y = [i + 3 for i in range(10)]\n",
    "z = []\n",
    "\n",
    "for i, j in zip(x, y):\n",
    "    z += [i + j]\n",
    "\n",
    "print(z)"
   ]
  },
  {
   "cell_type": "markdown",
   "id": "marine-garage",
   "metadata": {},
   "source": [
    "Si les itérables sont de tailles différentes, l'itérateur *zip* s'arrêtera lorsque le plus petit des itérables sera épuisé."
   ]
  },
  {
   "cell_type": "code",
   "execution_count": null,
   "id": "familiar-explanation",
   "metadata": {},
   "outputs": [],
   "source": [
    "w = [i  for i in range(15)]\n",
    "x = [i * 2 for i in range(7)]\n",
    "y = [i + 3 for i in range(12)]\n",
    "z = []\n",
    "\n",
    "\n",
    "for i, j, k in zip(x, y, w):\n",
    "    z += [i + j * k]\n",
    "print(z)"
   ]
  },
  {
   "cell_type": "markdown",
   "id": "sealed-buffalo",
   "metadata": {},
   "source": [
    "# Fonctions"
   ]
  },
  {
   "cell_type": "markdown",
   "id": "unauthorized-joining",
   "metadata": {},
   "source": [
    "## 1. Fonctions"
   ]
  },
  {
   "cell_type": "markdown",
   "id": "technical-supplement",
   "metadata": {},
   "source": [
    "### 1.1 Les bases"
   ]
  },
  {
   "cell_type": "markdown",
   "id": "golden-northwest",
   "metadata": {},
   "source": [
    "En python, il est possible de déclarer de nouvelles fonctions à l'aide du mot clé __def__."
   ]
  },
  {
   "cell_type": "code",
   "execution_count": 23,
   "id": "specified-classification",
   "metadata": {},
   "outputs": [],
   "source": [
    "def geometrie_rectangle(longueur, largeur):\n",
    "    \n",
    "    perimetre = longueur * 2 + largeur * 2\n",
    "    aire = longueur * largeur\n",
    "    \n",
    "    return perimetre, aire"
   ]
  },
  {
   "cell_type": "markdown",
   "id": "sitting-arcade",
   "metadata": {},
   "source": [
    "Nous pouvons ensuite appeler notre fonction *geometrie_rectangle* pour calculer le périmétre et l'aire d'un rectangle de 7 par 4 :"
   ]
  },
  {
   "cell_type": "code",
   "execution_count": 24,
   "id": "green-chess",
   "metadata": {},
   "outputs": [
    {
     "data": {
      "text/plain": [
       "(22, 28)"
      ]
     },
     "execution_count": 24,
     "metadata": {},
     "output_type": "execute_result"
    }
   ],
   "source": [
    "geometrie_rectangle(7, 4)"
   ]
  },
  {
   "cell_type": "markdown",
   "id": "informal-galaxy",
   "metadata": {},
   "source": [
    "Nous pouvons noter plusieurs différences avec le c/c++ :\n",
    "- Il est possible de renvoyer plusieurs valeurs avec le return\n",
    "- Il n'est pas nécessaire de préciser le type des arguments"
   ]
  },
  {
   "cell_type": "markdown",
   "id": "micro-taste",
   "metadata": {},
   "source": [
    "Il est possible de définir des arguments par défauts à l'aide du caractère =.\n",
    "- Ils doivent être placés en fin d'appel\n",
    "- Aucun espace ne doit figurer de part et d'autre du =\n",
    "\n",
    "Si nous reprenons notre fonction en fixant une valeur par défaut de 8 pour la largeur."
   ]
  },
  {
   "cell_type": "code",
   "execution_count": null,
   "id": "behind-pizza",
   "metadata": {},
   "outputs": [],
   "source": [
    "def geometrie_rectangle(longueur, largeur=8):\n",
    "    \n",
    "    perimetre = longueur * 2 + largeur * 2\n",
    "    aire = longueur * largeur\n",
    "    \n",
    "    return perimetre, aire"
   ]
  },
  {
   "cell_type": "markdown",
   "id": "sunrise-rendering",
   "metadata": {},
   "source": [
    "Testons desormais avec ou sans valeur spécifiée pour la largeur"
   ]
  },
  {
   "cell_type": "code",
   "execution_count": null,
   "id": "thorough-testament",
   "metadata": {},
   "outputs": [],
   "source": [
    "geometrie_rectangle(12, 5)"
   ]
  },
  {
   "cell_type": "code",
   "execution_count": null,
   "id": "textile-hughes",
   "metadata": {},
   "outputs": [],
   "source": [
    "geometrie_rectangle(12)"
   ]
  },
  {
   "cell_type": "markdown",
   "id": "sacred-helena",
   "metadata": {},
   "source": [
    "Lors de l'appel d'une fonction, vous pouvez spécifier manuellement les arguments ce qui s'avère utile lorsque plusieurs valeurs par défaut existent."
   ]
  },
  {
   "cell_type": "code",
   "execution_count": null,
   "id": "enhanced-fruit",
   "metadata": {},
   "outputs": [],
   "source": [
    "def pas_interessant(valeur_1=2, valeur_2=5, valeur_3=4, valeur_4=3):\n",
    "    \n",
    "    return valeur_1 * valeur_2 + valeur_3 * valeur_4\n",
    "\n",
    "pas_interessant(valeur_2=2, valeur_3=3)"
   ]
  },
  {
   "cell_type": "markdown",
   "id": "hundred-minority",
   "metadata": {},
   "source": [
    "### 1.2 La *docstring*"
   ]
  },
  {
   "cell_type": "markdown",
   "id": "anticipated-graphic",
   "metadata": {},
   "source": [
    "Python inclut une fonctionnalité de documentation du code appelée *docstring* qui permet de renseigner dynamiquement l'utilisateur.\n",
    "Toute fonction est supposée posséder une *docstring* qui peut être consultée à l'aide de l'attribut \\__doc__ ou de la fonction primitive *help*. Testons cela pour la fonction copy du module copy, nous reviendrons sur les modules dans un autre chapitre."
   ]
  },
  {
   "cell_type": "code",
   "execution_count": null,
   "id": "convertible-mobile",
   "metadata": {},
   "outputs": [],
   "source": [
    "# Import du module copy\n",
    "import copy\n",
    "copy.copy.__doc__"
   ]
  },
  {
   "cell_type": "code",
   "execution_count": 44,
   "id": "neutral-syndrome",
   "metadata": {},
   "outputs": [
    {
     "name": "stdout",
     "output_type": "stream",
     "text": [
      "Help on function copy in module copy:\n",
      "\n",
      "copy(x)\n",
      "    Shallow copy operation on arbitrary Python objects.\n",
      "    \n",
      "    See the module's __doc__ string for more info.\n",
      "\n"
     ]
    }
   ],
   "source": [
    "help(copy.copy)"
   ]
  },
  {
   "cell_type": "markdown",
   "id": "coastal-paraguay",
   "metadata": {},
   "source": [
    "Il est impératif de définir une *docstring* pour vos fonctions. Cette dernière s'introduit juste en dessous de la définition à l'aide de triple quotes (\"\"\").  \n",
    "Si nous reprenons notre fonction *geometrie_rectangle*, une *docstring* appropriée est la suivante :"
   ]
  },
  {
   "cell_type": "code",
   "execution_count": null,
   "id": "blessed-settle",
   "metadata": {},
   "outputs": [],
   "source": [
    "def geometrie_rectangle(longueur, largeur=8):\n",
    "    \"\"\" Calcule le périmètre et l'aire d'un rectangle\n",
    "    \n",
    "    Args:\n",
    "        Longueur : la longueur du rectangle\n",
    "        Largeur : la largeur du rectangle (defaut=8)\n",
    "    Returns\n",
    "        Le pérmètre et l'aire du rectangle\n",
    "        \n",
    "    \"\"\"\n",
    "    \n",
    "    perimetre = longueur * 2 + largeur * 2\n",
    "    aire = longueur * largeur\n",
    "    \n",
    "    return perimetre, aire"
   ]
  },
  {
   "cell_type": "code",
   "execution_count": null,
   "id": "working-imperial",
   "metadata": {},
   "outputs": [],
   "source": [
    "help(geometrie_rectangle)"
   ]
  },
  {
   "cell_type": "markdown",
   "id": "secret-intervention",
   "metadata": {},
   "source": [
    "# IV. Les modules"
   ]
  },
  {
   "cell_type": "markdown",
   "id": "66fc6b42",
   "metadata": {},
   "source": [
    "Lorsque vous quittez et entrez à nouveau dans l'interpréteur Python, tout ce que vous avez déclaré dans la session précédente est perdu. Afin de rédiger des programmes plus longs, vous devez utiliser un éditeur de texte, préparer votre code dans un fichier et exécuter Python avec ce fichier en paramètre. Cela s'appelle créer un script. Lorsque votre programme grandit, vous pouvez séparer votre code dans plusieurs fichiers.\n",
    "\n",
    "Pour gérer cela, Python vous permet de placer des définitions dans un fichier et de les utiliser dans un script ou une session interactive. Un tel fichier est appelé un module et les définitions d'un module peuvent être importées dans un autre module ou dans le module main (qui est le module qui contient vos variables et définitions lors de l'exécution d'un script au niveau le plus haut ou en mode interactif)"
   ]
  },
  {
   "cell_type": "markdown",
   "id": "illegal-council",
   "metadata": {},
   "source": [
    "## 1. Introduction"
   ]
  },
  {
   "cell_type": "markdown",
   "id": "animated-context",
   "metadata": {},
   "source": [
    "## 1.1 Les bases"
   ]
  },
  {
   "cell_type": "markdown",
   "id": "bizarre-writing",
   "metadata": {},
   "source": [
    "Un module est un fichier contenant des définitions et des instructions. Les instructions permettent d'initialiser le module et seront exéctutées lors du premier import du module ou lors de son exécution en tant que script. Son nom de fichier est le nom du module suffixé de .py.    "
   ]
  },
  {
   "cell_type": "markdown",
   "id": "functional-caribbean",
   "metadata": {},
   "source": [
    "Vous pouvez lier un module à un nom spécifique lors de son import au moyen du mot clé __as__."
   ]
  },
  {
   "cell_type": "code",
   "execution_count": null,
   "id": "flexible-nickname",
   "metadata": {},
   "outputs": [],
   "source": [
    "import numpy as np\n",
    "\n",
    "x = [i for i in range(10)]\n",
    "\n",
    "np.mean(x)"
   ]
  },
  {
   "cell_type": "markdown",
   "id": "shaped-england",
   "metadata": {},
   "source": [
    "Certains modules importants sont toujours importés selon un alias comme numpy avec l'alias np et tensorflow avec tf."
   ]
  },
  {
   "cell_type": "markdown",
   "id": "close-display",
   "metadata": {},
   "source": [
    "## 1.2 La recherche de modules"
   ]
  },
  {
   "cell_type": "markdown",
   "id": "surprising-sperm",
   "metadata": {},
   "source": [
    "Lorsqu'un module est importé, il est d'abord recherché parmi les modules natifs puis, s'il n'est pas trouvé, l'interpréteur le cherche dans une liste de dossiers donnée par la variable sys.path qui par défaut est initialisée de la façon suivante :\n",
    "- le dossier contenant le script courant (ou le dossier courant si aucun script n'est donné)\n",
    "- PYTHONPATH (une liste de dossiers, utilisant la même syntaxe que la variable shell PATH)\n",
    "- la valeur par défaut, dépendante de l'installation"
   ]
  },
  {
   "cell_type": "markdown",
   "id": "subsequent-bradley",
   "metadata": {},
   "source": [
    "## 2. Quelques modules classiques"
   ]
  },
  {
   "cell_type": "markdown",
   "id": "spoken-drunk",
   "metadata": {},
   "source": [
    "L'objectif de cette section est de vous présenter succinctement quelques modules couramment utilisés."
   ]
  },
  {
   "cell_type": "markdown",
   "id": "operational-collar",
   "metadata": {},
   "source": [
    "### 2.1 La bibliothèque standard"
   ]
  },
  {
   "cell_type": "markdown",
   "id": "violent-lewis",
   "metadata": {},
   "source": [
    "Python est accompagné d'une bibliothèque de modules standards (toujours présente lors d'une installation normale de python). Ces modules offrent de nombreuses fonctionnalités que vous devez utiliser en cas de besoin. L'ensemble de la documentation des modules stantard se situe sur le site python.org."
   ]
  },
  {
   "cell_type": "markdown",
   "id": "unauthorized-washer",
   "metadata": {},
   "source": [
    "#### a) Le module copy"
   ]
  },
  {
   "cell_type": "markdown",
   "id": "aboriginal-component",
   "metadata": {},
   "source": [
    "Importons le module personnage contenant la classe définie au chapitre précédent.\n",
    "Ensuite créons un premier personnage référencé par x puis une copie référencée par y."
   ]
  },
  {
   "cell_type": "code",
   "execution_count": 29,
   "id": "impressed-district",
   "metadata": {},
   "outputs": [
    {
     "ename": "ModuleNotFoundError",
     "evalue": "No module named 'personnage'",
     "output_type": "error",
     "traceback": [
      "\u001b[1;31m---------------------------------------------------------------------------\u001b[0m",
      "\u001b[1;31mModuleNotFoundError\u001b[0m                       Traceback (most recent call last)",
      "\u001b[1;32m~\\AppData\\Local\\Temp\\ipykernel_14600\\2532159063.py\u001b[0m in \u001b[0;36m<module>\u001b[1;34m\u001b[0m\n\u001b[1;32m----> 1\u001b[1;33m \u001b[1;32mimport\u001b[0m \u001b[0mpersonnage\u001b[0m\u001b[1;33m\u001b[0m\u001b[1;33m\u001b[0m\u001b[0m\n\u001b[0m\u001b[0;32m      2\u001b[0m \u001b[1;33m\u001b[0m\u001b[0m\n\u001b[0;32m      3\u001b[0m \u001b[0mx\u001b[0m \u001b[1;33m=\u001b[0m \u001b[0mpersonnage\u001b[0m\u001b[1;33m.\u001b[0m\u001b[0mPersonnage\u001b[0m\u001b[1;33m(\u001b[0m\u001b[1;34m\"John smith\"\u001b[0m\u001b[1;33m,\u001b[0m \u001b[1;36m40\u001b[0m\u001b[1;33m,\u001b[0m \u001b[1;34m\"humain\"\u001b[0m\u001b[1;33m)\u001b[0m\u001b[1;33m\u001b[0m\u001b[1;33m\u001b[0m\u001b[0m\n\u001b[0;32m      4\u001b[0m \u001b[0my\u001b[0m \u001b[1;33m=\u001b[0m \u001b[0mx\u001b[0m\u001b[1;33m\u001b[0m\u001b[1;33m\u001b[0m\u001b[0m\n\u001b[0;32m      5\u001b[0m \u001b[1;33m\u001b[0m\u001b[0m\n",
      "\u001b[1;31mModuleNotFoundError\u001b[0m: No module named 'personnage'"
     ]
    }
   ],
   "source": [
    "import personnage\n",
    "\n",
    "x = personnage.Personnage(\"John smith\", 40, \"humain\")\n",
    "y = x\n",
    "\n",
    "x.affiche()\n",
    "y.affiche()"
   ]
  },
  {
   "cell_type": "markdown",
   "id": "mineral-reason",
   "metadata": {},
   "source": [
    "Modifions ensuite l'objet référencé par x"
   ]
  },
  {
   "cell_type": "code",
   "execution_count": 28,
   "id": "behavioral-deadline",
   "metadata": {},
   "outputs": [
    {
     "ename": "AttributeError",
     "evalue": "'numpy.ndarray' object has no attribute 'identite'",
     "output_type": "error",
     "traceback": [
      "\u001b[1;31m---------------------------------------------------------------------------\u001b[0m",
      "\u001b[1;31mAttributeError\u001b[0m                            Traceback (most recent call last)",
      "\u001b[1;32m~\\AppData\\Local\\Temp\\ipykernel_14600\\3203506989.py\u001b[0m in \u001b[0;36m<module>\u001b[1;34m\u001b[0m\n\u001b[1;32m----> 1\u001b[1;33m \u001b[0mx\u001b[0m\u001b[1;33m.\u001b[0m\u001b[0midentite\u001b[0m\u001b[1;33m[\u001b[0m\u001b[1;34m'nom'\u001b[0m\u001b[1;33m]\u001b[0m \u001b[1;33m=\u001b[0m \u001b[1;34m\"Smithy\"\u001b[0m\u001b[1;33m\u001b[0m\u001b[1;33m\u001b[0m\u001b[0m\n\u001b[0m\u001b[0;32m      2\u001b[0m \u001b[0mx\u001b[0m\u001b[1;33m.\u001b[0m\u001b[0maffiche\u001b[0m\u001b[1;33m(\u001b[0m\u001b[1;33m)\u001b[0m\u001b[1;33m\u001b[0m\u001b[1;33m\u001b[0m\u001b[0m\n\u001b[0;32m      3\u001b[0m \u001b[0my\u001b[0m\u001b[1;33m.\u001b[0m\u001b[0maffiche\u001b[0m\u001b[1;33m(\u001b[0m\u001b[1;33m)\u001b[0m\u001b[1;33m\u001b[0m\u001b[1;33m\u001b[0m\u001b[0m\n",
      "\u001b[1;31mAttributeError\u001b[0m: 'numpy.ndarray' object has no attribute 'identite'"
     ]
    }
   ],
   "source": [
    "x.identite['nom'] = \"Smithy\"\n",
    "x.affiche()\n",
    "y.affiche()"
   ]
  },
  {
   "cell_type": "markdown",
   "id": "developed-leonard",
   "metadata": {},
   "source": [
    "Comme vous pouvez le constater, y n'est pas une copie de x. Notre classe ne comportant pas de méthode de copie comme pour les listes, dictionnaires, etc. Il est nécessaire d'utiliser le module copy qui permet de faire des copies et plus particulièrement des copies récursives nécessaires à la copie d'objets muables complexes."
   ]
  },
  {
   "cell_type": "code",
   "execution_count": 27,
   "id": "anonymous-whole",
   "metadata": {},
   "outputs": [
    {
     "ename": "ModuleNotFoundError",
     "evalue": "No module named 'personnage'",
     "output_type": "error",
     "traceback": [
      "\u001b[1;31m---------------------------------------------------------------------------\u001b[0m",
      "\u001b[1;31mModuleNotFoundError\u001b[0m                       Traceback (most recent call last)",
      "\u001b[1;32m~\\AppData\\Local\\Temp\\ipykernel_14600\\2079596457.py\u001b[0m in \u001b[0;36m<module>\u001b[1;34m\u001b[0m\n\u001b[0;32m      1\u001b[0m \u001b[1;32mimport\u001b[0m \u001b[0mcopy\u001b[0m\u001b[1;33m\u001b[0m\u001b[1;33m\u001b[0m\u001b[0m\n\u001b[1;32m----> 2\u001b[1;33m \u001b[1;32mimport\u001b[0m \u001b[0mpersonnage\u001b[0m\u001b[1;33m\u001b[0m\u001b[1;33m\u001b[0m\u001b[0m\n\u001b[0m\u001b[0;32m      3\u001b[0m \u001b[1;33m\u001b[0m\u001b[0m\n\u001b[0;32m      4\u001b[0m \u001b[0mx\u001b[0m \u001b[1;33m=\u001b[0m \u001b[0mpersonnage\u001b[0m\u001b[1;33m.\u001b[0m\u001b[0mPersonnage\u001b[0m\u001b[1;33m(\u001b[0m\u001b[1;34m\"John smith\"\u001b[0m\u001b[1;33m,\u001b[0m \u001b[1;36m40\u001b[0m\u001b[1;33m,\u001b[0m \u001b[1;34m\"humain\"\u001b[0m\u001b[1;33m)\u001b[0m\u001b[1;33m\u001b[0m\u001b[1;33m\u001b[0m\u001b[0m\n\u001b[0;32m      5\u001b[0m \u001b[0my\u001b[0m \u001b[1;33m=\u001b[0m \u001b[0mcopy\u001b[0m\u001b[1;33m.\u001b[0m\u001b[0mdeepcopy\u001b[0m\u001b[1;33m(\u001b[0m\u001b[0mx\u001b[0m\u001b[1;33m)\u001b[0m\u001b[1;33m\u001b[0m\u001b[1;33m\u001b[0m\u001b[0m\n",
      "\u001b[1;31mModuleNotFoundError\u001b[0m: No module named 'personnage'"
     ]
    }
   ],
   "source": [
    "import copy\n",
    "import personnage\n",
    "\n",
    "x = personnage.Personnage(\"John smith\", 40, \"humain\")\n",
    "y = copy.deepcopy(x)\n",
    "\n",
    "x.identite['nom'] = \"Smithy\"\n",
    "\n",
    "x.affiche()\n",
    "y.affiche()"
   ]
  },
  {
   "cell_type": "markdown",
   "id": "killing-kazakhstan",
   "metadata": {},
   "source": [
    "La variable y référence bien objet différent de celui référencé par x."
   ]
  },
  {
   "cell_type": "markdown",
   "id": "brutal-woman",
   "metadata": {},
   "source": [
    "#### b) Le module random"
   ]
  },
  {
   "cell_type": "markdown",
   "id": "operating-hospital",
   "metadata": {},
   "source": [
    "Le module random que nous avons déja manipulé, implémente des générateurs de nombres pseudo-aléatoires. Ce module nous servira pour le TP n°2."
   ]
  },
  {
   "cell_type": "code",
   "execution_count": null,
   "id": "transparent-nation",
   "metadata": {},
   "outputs": [],
   "source": [
    "import random\n",
    "\n",
    "\n",
    "# Création d'un liste de 10 éléments compris entre 0 et 9 et déterminés aléatoirement\n",
    "# Le symbole _ permet de remplacer une variable d'itération lorsque cette dernière n'est pas utile.\n",
    "x = [random.randrange(0, 10) for _ in range(10)]\n",
    "\n",
    "print(x)\n",
    "\n",
    "# Prendra une valeur choisie aléatoirement dans la séquence x\n",
    "y =  random.choice(x)\n",
    "print(y)"
   ]
  },
  {
   "cell_type": "markdown",
   "id": "portuguese-monkey",
   "metadata": {},
   "source": [
    "### 2.2 Les modules non standards"
   ]
  },
  {
   "cell_type": "markdown",
   "id": "smaller-flashing",
   "metadata": {},
   "source": [
    "Les modules non standards doivent être installés \"manuellement\". Je vous conseille d'effectuer ces installations à l'aide de l'installateur de paquet de python pip."
   ]
  },
  {
   "cell_type": "markdown",
   "id": "direct-wedding",
   "metadata": {},
   "source": [
    "#### a) Le module numpy"
   ]
  },
  {
   "cell_type": "markdown",
   "id": "north-treasurer",
   "metadata": {},
   "source": [
    "Le module numpy est une librairie dédiée aux calculs numériques qui permet notamment de définir des tableaux à n dimensions appelés arrays et de les manipuler à l'aide de nombreuses méthodes. Ce module manipule des codes pré-compilés de plus bas niveau lui permettant d'être très performant. Il s'agit du module de référence pour le calcul scientifique."
   ]
  },
  {
   "cell_type": "markdown",
   "id": "stuffed-andrew",
   "metadata": {},
   "source": [
    "Créons deux matrices (3x3) composées de valeur comprises entre 0 et 9"
   ]
  },
  {
   "cell_type": "code",
   "execution_count": 26,
   "id": "therapeutic-identity",
   "metadata": {},
   "outputs": [
    {
     "name": "stdout",
     "output_type": "stream",
     "text": [
      "Matrice x :\n",
      "[[4 4 4]\n",
      " [4 7 2]\n",
      " [6 3 3]]\n",
      "Matrice y :\n",
      "[[8 5 5]\n",
      " [7 6 8]\n",
      " [8 2 9]]\n"
     ]
    }
   ],
   "source": [
    "import numpy as np\n",
    "\n",
    "x = np.random.randint(0, 10, (3, 3))\n",
    "y = np.random.randint(0, 10, (3, 3))\n",
    "print(\"Matrice x :\")\n",
    "print(x)\n",
    "print(\"Matrice y :\")\n",
    "print(y)"
   ]
  },
  {
   "cell_type": "markdown",
   "id": "increasing-philippines",
   "metadata": {},
   "source": [
    "Vous pouvez ensuite aisément multplier ces matrices avec numpy :"
   ]
  },
  {
   "cell_type": "code",
   "execution_count": null,
   "id": "developed-conflict",
   "metadata": {},
   "outputs": [],
   "source": [
    "z = x * y\n",
    "print(z)"
   ]
  },
  {
   "cell_type": "markdown",
   "id": "fancy-courage",
   "metadata": {},
   "source": [
    "Et transposer la matrice résultante :"
   ]
  },
  {
   "cell_type": "code",
   "execution_count": null,
   "id": "modern-belgium",
   "metadata": {},
   "outputs": [],
   "source": [
    "print(np.transpose(z))"
   ]
  },
  {
   "cell_type": "markdown",
   "id": "linear-authority",
   "metadata": {},
   "source": [
    "#### b) Le module matplotlib"
   ]
  },
  {
   "cell_type": "markdown",
   "id": "medieval-choice",
   "metadata": {},
   "source": [
    "Matplotlib est une bibliothèque destinée à tracer et visualiser des données sous formes de graphiques. Elle est souvent utilisée conjointement avec numpy comme dans l'exemple ci-dessous :"
   ]
  },
  {
   "cell_type": "code",
   "execution_count": 25,
   "id": "prompt-bunny",
   "metadata": {},
   "outputs": [
    {
     "data": {
      "image/png": "[encoded data removed]",
      "text/plain": [
       "<Figure size 640x480 with 1 Axes>"
      ]
     },
     "metadata": {},
     "output_type": "display_data"
    }
   ],
   "source": [
    "import numpy as np\n",
    "import matplotlib.pyplot as plt\n",
    "\n",
    "# Data for plotting\n",
    "t = np.arange(0.0, 2.0, 0.01)\n",
    "s = 1 + np.sin(2 * np.pi * t)\n",
    "\n",
    "fig, ax = plt.subplots()\n",
    "ax.plot(t, s)\n",
    "\n",
    "ax.set(xlabel='time (s)', ylabel='voltage (mV)',\n",
    "       title='About as simple as it gets, folks')\n",
    "ax.grid()\n",
    "\n",
    "plt.show()"
   ]
  },
  {
   "cell_type": "code",
   "execution_count": null,
   "id": "4531e2b0",
   "metadata": {},
   "outputs": [],
   "source": []
  },
  {
   "cell_type": "code",
   "execution_count": null,
   "id": "eb988fbe",
   "metadata": {},
   "outputs": [],
   "source": []
  }
 ],
 "metadata": {
  "celltoolbar": "Format de la Cellule Texte Brut",
  "kernelspec": {
   "display_name": "Python 3 (ipykernel)",
   "language": "python",
   "name": "python3"
  },
  "language_info": {
   "codemirror_mode": {
    "name": "ipython",
    "version": 3
   },
   "file_extension": ".py",
   "mimetype": "text/x-python",
   "name": "python",
   "nbconvert_exporter": "python",
   "pygments_lexer": "ipython3",
   "version": "3.9.13"
  }
 },
 "nbformat": 4,
 "nbformat_minor": 5
}
