{
 "cells": [
  {
   "cell_type": "markdown",
   "metadata": {},
   "source": [
    "# L3 - SNEI\n",
    "Provided by Marc Sevaux"
   ]
  },
  {
   "cell_type": "markdown",
   "metadata": {},
   "source": [
    "Ce notebook contient des instructions et des commandes à réaliser pendant la session. Ce travail est à rendre comme spécifié dans les instructions. Attention, c'est un travail personnel qui vous est demandé ici."
   ]
  },
  {
   "cell_type": "markdown",
   "metadata": {},
   "source": [
    "## Ecriture de fonctions"
   ]
  },
  {
   "cell_type": "markdown",
   "metadata": {},
   "source": [
    "### Ecrire une fonction qui converti les kilomètres en miles"
   ]
  },
  {
   "cell_type": "code",
   "execution_count": 1,
   "metadata": {},
   "outputs": [
    {
     "data": {
      "text/plain": [
       "ki2mi"
      ]
     },
     "execution_count": 1,
     "metadata": {},
     "output_type": "execute_result"
    }
   ],
   "source": [
    "\"fonction qui converti les kilomètres en miles\"\n",
    "function ki2mi(km)\n",
    "    km /1.60934\n",
    "end"
   ]
  },
  {
   "cell_type": "markdown",
   "metadata": {},
   "source": [
    "### Ecrire la fonction réciproque"
   ]
  },
  {
   "cell_type": "code",
   "execution_count": 2,
   "metadata": {},
   "outputs": [
    {
     "data": {
      "text/plain": [
       "mi2ki (generic function with 1 method)"
      ]
     },
     "execution_count": 2,
     "metadata": {},
     "output_type": "execute_result"
    }
   ],
   "source": [
    "function mi2ki(mi)\n",
    "    mi*1.60934\n",
    "end"
   ]
  },
  {
   "cell_type": "markdown",
   "metadata": {},
   "source": [
    "### Ecrire une fonction qui converti des litres en gallons (américain)"
   ]
  },
  {
   "cell_type": "code",
   "execution_count": 3,
   "metadata": {},
   "outputs": [
    {
     "data": {
      "text/plain": [
       "li2ga (generic function with 1 method)"
      ]
     },
     "execution_count": 3,
     "metadata": {},
     "output_type": "execute_result"
    }
   ],
   "source": [
    "function li2ga(li)\n",
    "    li/3.78541\n",
    "end"
   ]
  },
  {
   "cell_type": "markdown",
   "metadata": {},
   "source": [
    "### Ecrire la fonction réciproque"
   ]
  },
  {
   "cell_type": "code",
   "execution_count": 4,
   "metadata": {},
   "outputs": [
    {
     "data": {
      "text/plain": [
       "ga2li (generic function with 1 method)"
      ]
     },
     "execution_count": 4,
     "metadata": {},
     "output_type": "execute_result"
    }
   ],
   "source": [
    "function ga2li(ga)\n",
    "    ga*3.78541\n",
    "end"
   ]
  },
  {
   "cell_type": "markdown",
   "metadata": {},
   "source": [
    "## Application des fonctions\n",
    "- Créer un tableau avec les valeurs de 0 à 100 par pas de 10\n",
    "- Avec une boucle _for_, appliquer la conversion en miles"
   ]
  },
  {
   "cell_type": "code",
   "execution_count": 5,
   "metadata": {},
   "outputs": [
    {
     "data": {
      "text/plain": [
       "11-element Array{Int64,1}:\n",
       "   0\n",
       "  10\n",
       "  20\n",
       "  30\n",
       "  40\n",
       "  50\n",
       "  60\n",
       "  70\n",
       "  80\n",
       "  90\n",
       " 100"
      ]
     },
     "execution_count": 5,
     "metadata": {},
     "output_type": "execute_result"
    }
   ],
   "source": [
    "# km = [i for i in 0:10:100]\n",
    "# km = [i*10 for i in 0:10]\n",
    "km = collect(0:10:100)"
   ]
  },
  {
   "cell_type": "code",
   "execution_count": 6,
   "metadata": {},
   "outputs": [
    {
     "name": "stdout",
     "output_type": "stream",
     "text": [
      "0.0\n",
      "6.213727366498068\n",
      "12.427454732996136\n",
      "18.641182099494202\n",
      "24.85490946599227\n",
      "31.068636832490338\n",
      "37.282364198988404\n",
      "43.49609156548647\n",
      "49.70981893198454\n",
      "55.923546298482606\n",
      "62.137273664980675\n"
     ]
    }
   ],
   "source": [
    "for i in 1:length(km)\n",
    "    println(ki2mi(km[i]))\n",
    "end"
   ]
  },
  {
   "cell_type": "markdown",
   "metadata": {},
   "source": [
    "- Créer un tableau _mi_ avec les valeurs de 5 à 105 par pas de 5\n",
    "- Avec une boucle _for_ afficher la conversion en kilomètres de chacune des valeurs de _mi_"
   ]
  },
  {
   "cell_type": "code",
   "execution_count": 7,
   "metadata": {},
   "outputs": [
    {
     "data": {
      "text/plain": [
       "21-element Array{Int64,1}:\n",
       "   5\n",
       "  10\n",
       "  15\n",
       "  20\n",
       "  25\n",
       "  30\n",
       "  35\n",
       "  40\n",
       "  45\n",
       "  50\n",
       "  55\n",
       "  60\n",
       "  65\n",
       "  70\n",
       "  75\n",
       "  80\n",
       "  85\n",
       "  90\n",
       "  95\n",
       " 100\n",
       " 105"
      ]
     },
     "execution_count": 7,
     "metadata": {},
     "output_type": "execute_result"
    }
   ],
   "source": [
    "mi = collect(5:5:105)"
   ]
  },
  {
   "cell_type": "code",
   "execution_count": 8,
   "metadata": {},
   "outputs": [
    {
     "name": "stdout",
     "output_type": "stream",
     "text": [
      "8.0467\n",
      "16.0934\n",
      "24.1401\n",
      "32.1868\n",
      "40.2335\n",
      "48.2802\n",
      "56.3269\n",
      "64.3736\n",
      "72.4203\n",
      "80.467\n",
      "88.5137\n",
      "96.5604\n",
      "104.6071\n",
      "112.6538\n",
      "120.7005\n",
      "128.7472\n",
      "136.7939\n",
      "144.8406\n",
      "152.8873\n",
      "160.934\n",
      "168.9807\n"
     ]
    }
   ],
   "source": [
    "for i in 1:length(mi)\n",
    "    println(mi2ki(mi[i]))\n",
    "end"
   ]
  },
  {
   "cell_type": "markdown",
   "metadata": {},
   "source": [
    "- Créer un tableau _li_ avec les valeurs de 1 à 30 par pas de 0.5\n",
    "- Créer un nouveau tableau _ga_ issu de la conversion en gallons en utilisant les subtilités de julia qui permettent d'appliquer une fonction sur toutes les valeurs d'un tableau (il existe pluseurs solutions possibles - plusieurs réponses seront appréciées)\n",
    "- Vous pouvez créer autant de cellules que de réponses"
   ]
  },
  {
   "cell_type": "code",
   "execution_count": 9,
   "metadata": {},
   "outputs": [
    {
     "data": {
      "text/plain": [
       "59-element Array{Float64,1}:\n",
       "  1.0\n",
       "  1.5\n",
       "  2.0\n",
       "  2.5\n",
       "  3.0\n",
       "  3.5\n",
       "  4.0\n",
       "  4.5\n",
       "  5.0\n",
       "  5.5\n",
       "  6.0\n",
       "  6.5\n",
       "  7.0\n",
       "  ⋮  \n",
       " 24.5\n",
       " 25.0\n",
       " 25.5\n",
       " 26.0\n",
       " 26.5\n",
       " 27.0\n",
       " 27.5\n",
       " 28.0\n",
       " 28.5\n",
       " 29.0\n",
       " 29.5\n",
       " 30.0"
      ]
     },
     "execution_count": 9,
     "metadata": {},
     "output_type": "execute_result"
    }
   ],
   "source": [
    "# li = [i for i in 1:0.5:30]\n",
    "li = collect(1:0.5:30)"
   ]
  },
  {
   "cell_type": "code",
   "execution_count": 10,
   "metadata": {},
   "outputs": [
    {
     "data": {
      "text/plain": [
       "59-element Array{Float64,1}:\n",
       " 0.26417217685798894\n",
       " 0.39625826528698344\n",
       " 0.5283443537159779 \n",
       " 0.6604304421449724 \n",
       " 0.7925165305739669 \n",
       " 0.9246026190029614 \n",
       " 1.0566887074319558 \n",
       " 1.1887747958609503 \n",
       " 1.3208608842899447 \n",
       " 1.4529469727189392 \n",
       " 1.5850330611479337 \n",
       " 1.7171191495769282 \n",
       " 1.8492052380059227 \n",
       " ⋮                  \n",
       " 6.472218333020729  \n",
       " 6.604304421449724  \n",
       " 6.736390509878718  \n",
       " 6.868476598307713  \n",
       " 7.000562686736707  \n",
       " 7.132648775165702  \n",
       " 7.264734863594696  \n",
       " 7.396820952023691  \n",
       " 7.528907040452685  \n",
       " 7.66099312888168   \n",
       " 7.793079217310674  \n",
       " 7.925165305739669  "
      ]
     },
     "execution_count": 10,
     "metadata": {},
     "output_type": "execute_result"
    }
   ],
   "source": [
    "ga = map(li2ga,li)"
   ]
  },
  {
   "cell_type": "code",
   "execution_count": 11,
   "metadata": {},
   "outputs": [
    {
     "data": {
      "text/plain": [
       "59-element Array{Float64,1}:\n",
       " 0.26417217685798894\n",
       " 0.39625826528698344\n",
       " 0.5283443537159779 \n",
       " 0.6604304421449724 \n",
       " 0.7925165305739669 \n",
       " 0.9246026190029614 \n",
       " 1.0566887074319558 \n",
       " 1.1887747958609503 \n",
       " 1.3208608842899447 \n",
       " 1.4529469727189392 \n",
       " 1.5850330611479337 \n",
       " 1.7171191495769282 \n",
       " 1.8492052380059227 \n",
       " ⋮                  \n",
       " 6.472218333020729  \n",
       " 6.604304421449724  \n",
       " 6.736390509878718  \n",
       " 6.868476598307713  \n",
       " 7.000562686736707  \n",
       " 7.132648775165702  \n",
       " 7.264734863594696  \n",
       " 7.396820952023691  \n",
       " 7.528907040452685  \n",
       " 7.66099312888168   \n",
       " 7.793079217310674  \n",
       " 7.925165305739669  "
      ]
     },
     "execution_count": 11,
     "metadata": {},
     "output_type": "execute_result"
    }
   ],
   "source": [
    "ga = broadcast(li2ga,li)"
   ]
  },
  {
   "cell_type": "code",
   "execution_count": 12,
   "metadata": {},
   "outputs": [
    {
     "data": {
      "text/plain": [
       "59-element Array{Float64,1}:\n",
       " 0.26417217685798894\n",
       " 0.39625826528698344\n",
       " 0.5283443537159779 \n",
       " 0.6604304421449724 \n",
       " 0.7925165305739669 \n",
       " 0.9246026190029614 \n",
       " 1.0566887074319558 \n",
       " 1.1887747958609503 \n",
       " 1.3208608842899447 \n",
       " 1.4529469727189392 \n",
       " 1.5850330611479337 \n",
       " 1.7171191495769282 \n",
       " 1.8492052380059227 \n",
       " ⋮                  \n",
       " 6.472218333020729  \n",
       " 6.604304421449724  \n",
       " 6.736390509878718  \n",
       " 6.868476598307713  \n",
       " 7.000562686736707  \n",
       " 7.132648775165702  \n",
       " 7.264734863594696  \n",
       " 7.396820952023691  \n",
       " 7.528907040452685  \n",
       " 7.66099312888168   \n",
       " 7.793079217310674  \n",
       " 7.925165305739669  "
      ]
     },
     "execution_count": 12,
     "metadata": {},
     "output_type": "execute_result"
    }
   ],
   "source": [
    "ga = li2ga.(li)"
   ]
  },
  {
   "cell_type": "markdown",
   "metadata": {},
   "source": [
    "---------------\n",
    "# Graphiques\n",
    "Dans cette partie, vous devez créer un tableau avec des consommations en l/100 allant de 3,5 l/100km à 18 l/100km par pas de 0,5 l/100km. Créez aussi un second tableau qui contient les consommations équivalente transcrites par votre fonction apropriée. Tracez la courbe entre ces deux valeurs avec les différents types de graphiques (lignes, points, barres)."
   ]
  },
  {
   "cell_type": "code",
   "execution_count": null,
   "metadata": {},
   "outputs": [],
   "source": [
    "..."
   ]
  },
  {
   "cell_type": "markdown",
   "metadata": {},
   "source": [
    "---------------\n",
    "# Fonctions complexes\n",
    "Dans cette partie, vous allez créer des fonctions complexes qui devront faire appel à des fonctions que vous avez déjà créé auparavant"
   ]
  },
  {
   "cell_type": "markdown",
   "metadata": {},
   "source": [
    "La consommation des véhicules en France est donnée en nombre de litres consommés pour 100 km (l100). Aux USA, cette consommation est données en milles effectués pour un gallon d'essence (mpg). Ecrivez les deux fonctions de conversion des consommations FR->US et US->FR. Ces deux fonctions doivent faire appel aux fonctions de la section précédente. N'oubliez pas que vous pouvez mettre des commentaires en ligne en les faisant précéder d'un #"
   ]
  },
  {
   "cell_type": "code",
   "execution_count": 13,
   "metadata": {},
   "outputs": [
    {
     "data": {
      "text/plain": [
       "consFRUS (generic function with 1 method)"
      ]
     },
     "execution_count": 13,
     "metadata": {},
     "output_type": "execute_result"
    }
   ],
   "source": [
    "function consFRUS(l100)\n",
    "    # on transforme les litres en gallons\n",
    "    gal = li2ga(l100)\n",
    "    # on transforme les 100 km en miles\n",
    "    mil = ki2mi(100)\n",
    "    # on calcule la distance parcourrue en miles pour 1 gallon\n",
    "    return mil / gal\n",
    "end"
   ]
  },
  {
   "cell_type": "code",
   "execution_count": 14,
   "metadata": {},
   "outputs": [
    {
     "data": {
      "text/plain": [
       "consUSFR (generic function with 1 method)"
      ]
     },
     "execution_count": 14,
     "metadata": {},
     "output_type": "execute_result"
    }
   ],
   "source": [
    "function consUSFR(mpg)\n",
    "    # On transforme les miles en kilometres\n",
    "    kil = mi2ki(mpg)\n",
    "    # on transforme le galon en litre\n",
    "    lit = ga2li(1)\n",
    "    # on ajuste le nombre de litres pour 100 km\n",
    "    return lit / kil * 100\n",
    "end"
   ]
  },
  {
   "cell_type": "markdown",
   "metadata": {},
   "source": [
    "## Application des fonctions complexes\n",
    "\n",
    "A partir des informations ci-dessous, créez un dictionnaire contenant le modèle de la voiture et un tuple avec la consommation FR et la consommation US.\n",
    "\n",
    "### Voitures essence Françaises de 2018 de plus faible consommation\n",
    "1.\tCitroën C3\t3,2 L\n",
    "2.\tRenault Clio 4\t3,3 L\n",
    "3.\tPeugeot 208\t3,5 L\n",
    "4.\tDacia Sandero 2\t3,5 L\n",
    "5.\tRenault Captur\t3,6 L\n",
    "6.\tPeugeot 308\t3,5 L\n",
    "7.\tRenault Mégane 4\t3,7 L\n",
    "8.\tPeugeot 2008\t4 L\n",
    "9.\tPeugeot 3008\t4 L\n",
    "10.\tDacia Duster II\t4,4 L\n",
    "\n",
    "### Voitures Américaines les plus vendues en 2018\n",
    "1. Honda Accord 38 MPG\n",
    "2. Honda Civic 40 MPG\n",
    "3. Toyota Camry 41 MPG\n",
    "4. Chevrolet Impala 30 MPG\n",
    "5. Nissan Altima 38 MPG\n",
    "6. Ford Explorer 24 MPG\n",
    "7. Totyota Corolla 36 MPG\n",
    "8. Chevrolet Malibu 36 MPG\n",
    "9. Subaru Legacy 34 MPG\n",
    "10. Ford Focus 34 MPG\n",
    "\n",
    "Soyez astucieux dans l'utilisation des fonctions et des méthodes de construction de dictionnaires. L'efficacité prime avant le résultat."
   ]
  },
  {
   "cell_type": "code",
   "execution_count": 39,
   "metadata": {},
   "outputs": [
    {
     "data": {
      "text/plain": [
       "Dict{Any,Any} with 0 entries"
      ]
     },
     "execution_count": 39,
     "metadata": {},
     "output_type": "execute_result"
    }
   ],
   "source": [
    "DicoFR = Dict() # creation d'un dictionnaire pour les voitures francaises"
   ]
  },
  {
   "cell_type": "code",
   "execution_count": 42,
   "metadata": {},
   "outputs": [
    {
     "data": {
      "text/plain": [
       "Dict{Any,Any} with 10 entries:\n",
       "  \"Dacia Duster II\"  => (4.4, 53.458)\n",
       "  \"Peugeot 2008\"     => (4, 58.8038)\n",
       "  \"Renault Captur\"   => (3.6, 65.3375)\n",
       "  \"Dacia Sandero 2\"  => (3.5, 67.2043)\n",
       "  \"Renault Mégane 4\" => (3.7, 63.5716)\n",
       "  \"Citroën C3\"       => (3.2, 73.5047)\n",
       "  \"Renault Clio 4\"   => (3.3, 71.2773)\n",
       "  \"Peugeot 208\"      => (3.5, 67.2043)\n",
       "  \"Peugeot 308\"      => (3.5, 67.2043)\n",
       "  \"Peugeot 3008\"     => (4, 58.8038)"
      ]
     },
     "execution_count": 42,
     "metadata": {},
     "output_type": "execute_result"
    }
   ],
   "source": [
    "# remplissage a la main\n",
    "DicoFR[\"Citroën C3\"] = (3.2, consFRUS(3.2))\n",
    "DicoFR[\"Renault Clio 4\"] = (3.3,consFRUS(3.3))\n",
    "DicoFR[\"Peugeot 208\"] =  (3.5,consFRUS(3.5))\n",
    "DicoFR[\"Dacia Sandero 2\"] = (3.5,consFRUS(3.5))\n",
    "DicoFR[\"Renault Captur\"] = (3.6,consFRUS(3.6))\n",
    "DicoFR[\"Peugeot 308\"] = (3.5,consFRUS(3.5))\n",
    "DicoFR[\"Renault Mégane 4\"] = (3.7,consFRUS(3.7))\n",
    "DicoFR[\"Peugeot 2008\"] = (4,consFRUS(4))\n",
    "DicoFR[\"Peugeot 3008\"] = (4,consFRUS(4))\n",
    "DicoFR[\"Dacia Duster II\"]= (4.4,consFRUS(4.4))\n",
    "# affichage du dictionnaire\n",
    "DicoFR"
   ]
  },
  {
   "cell_type": "code",
   "execution_count": 51,
   "metadata": {},
   "outputs": [],
   "source": [
    "# remplissage d'un tableau t avec les inforations minimales\n",
    "t = [\n",
    "    [\"Honda Accord\", 38],\n",
    "    [\"Honda Civic\", 40],\n",
    "    [\"Toyota Camry\", 41],\n",
    "    [\"Chevrolet Impala\", 30],\n",
    "    [\"Nissan Altima\", 38],\n",
    "    [\"Ford Explorer\", 24],\n",
    "    [\"Totyota Corolla\", 36],\n",
    "    [\"Chevrolet Malibu\", 36],\n",
    "    [\"Subaru Legacy\", 34],\n",
    "    [\"Ford Focus\", 34]\n",
    "];"
   ]
  },
  {
   "cell_type": "code",
   "execution_count": 52,
   "metadata": {},
   "outputs": [
    {
     "data": {
      "text/plain": [
       "Dict{Any,Any} with 10 entries:\n",
       "  \"Subaru Legacy\"    => (34, 6.91809)\n",
       "  \"Ford Focus\"       => (34, 6.91809)\n",
       "  \"Honda Civic\"      => (40, 5.88038)\n",
       "  \"Chevrolet Malibu\" => (36, 6.53375)\n",
       "  \"Ford Explorer\"    => (24, 9.80063)\n",
       "  \"Nissan Altima\"    => (38, 6.18987)\n",
       "  \"Chevrolet Impala\" => (30, 7.8405)\n",
       "  \"Honda Accord\"     => (38, 6.18987)\n",
       "  \"Totyota Corolla\"  => (36, 6.53375)\n",
       "  \"Toyota Camry\"     => (41, 5.73695)"
      ]
     },
     "execution_count": 52,
     "metadata": {},
     "output_type": "execute_result"
    }
   ],
   "source": [
    "DicoUS = Dict() # creation du dictionnaire pour les voitures americaines\n",
    "# remplissage automatique du dictionnaire\n",
    "for i in 1:length(t)\n",
    "    DicoUS[t[i][1]] = (t[i][2], consUSFR(t[i][2]))\n",
    "end\n",
    "DicoUS"
   ]
  },
  {
   "cell_type": "code",
   "execution_count": null,
   "metadata": {},
   "outputs": [],
   "source": []
  }
 ],
 "metadata": {
  "kernelspec": {
   "display_name": "Julia 1.3.1",
   "language": "julia",
   "name": "julia-1.3"
  },
  "language_info": {
   "file_extension": ".jl",
   "mimetype": "application/julia",
   "name": "julia",
   "version": "1.3.1"
  }
 },
 "nbformat": 4,
 "nbformat_minor": 4
}
